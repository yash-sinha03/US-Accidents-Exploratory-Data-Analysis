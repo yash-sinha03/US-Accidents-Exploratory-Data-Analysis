{
  "nbformat": 4,
  "nbformat_minor": 0,
  "metadata": {
    "colab": {
      "name": "Untitled2.ipynb",
      "provenance": [],
      "include_colab_link": true
    },
    "kernelspec": {
      "name": "python3",
      "display_name": "Python 3"
    },
    "language_info": {
      "name": "python"
    }
  },
  "cells": [
    {
      "cell_type": "markdown",
      "metadata": {
        "id": "view-in-github",
        "colab_type": "text"
      },
      "source": [
        "<a href=\"https://colab.research.google.com/github/yash-sinha03/US-Accidents-Exploratory-Data-Analysis/blob/main/US%20Accident_EDA.ipynb\" target=\"_parent\"><img src=\"https://colab.research.google.com/assets/colab-badge.svg\" alt=\"Open In Colab\"/></a>"
      ]
    },
    {
      "cell_type": "code",
      "execution_count": null,
      "metadata": {
        "id": "VStl4KFwymeB"
      },
      "outputs": [],
      "source": [
        "pip install opendatasets --upgrade --quiet"
      ]
    },
    {
      "cell_type": "code",
      "source": [
        "import opendatasets as od\n",
        "\n",
        "download_url = 'https://www.kaggle.com/sobhanmoosavi/us-accidents'\n",
        "\n",
        "od.download(download_url)"
      ],
      "metadata": {
        "colab": {
          "base_uri": "https://localhost:8080/"
        },
        "id": "zfkmPtcizaVC",
        "outputId": "de41823d-e208-4f99-b9e7-ade6a06cf0bb"
      },
      "execution_count": null,
      "outputs": [
        {
          "output_type": "stream",
          "name": "stdout",
          "text": [
            "Please provide your Kaggle credentials to download this dataset. Learn more: http://bit.ly/kaggle-creds\n",
            "Your Kaggle username: ayushsharma192000\n",
            "Your Kaggle Key: ··········\n",
            "Downloading us-accidents.zip to ./us-accidents\n"
          ]
        },
        {
          "output_type": "stream",
          "name": "stderr",
          "text": [
            "100%|██████████| 269M/269M [00:01<00:00, 159MB/s]"
          ]
        },
        {
          "output_type": "stream",
          "name": "stdout",
          "text": [
            "\n"
          ]
        },
        {
          "output_type": "stream",
          "name": "stderr",
          "text": [
            "\n"
          ]
        }
      ]
    },
    {
      "cell_type": "code",
      "source": [
        "data_filename = './us-accidents/US_Accidents_Dec21_updated.csv'"
      ],
      "metadata": {
        "id": "GzhU_LyG1Yle"
      },
      "execution_count": null,
      "outputs": []
    },
    {
      "cell_type": "code",
      "source": [
        "import pandas as pd"
      ],
      "metadata": {
        "id": "1qkcC7AW1con"
      },
      "execution_count": null,
      "outputs": []
    },
    {
      "cell_type": "code",
      "source": [
        "df = pd.read_csv(data_filename)"
      ],
      "metadata": {
        "id": "E9h1BvFA1gN0"
      },
      "execution_count": null,
      "outputs": []
    },
    {
      "cell_type": "code",
      "source": [
        "df\n"
      ],
      "metadata": {
        "colab": {
          "base_uri": "https://localhost:8080/",
          "height": 939
        },
        "id": "1WhQhWMs3CDj",
        "outputId": "c23a8905-ca64-49cf-a2a0-ac7b4054805a"
      },
      "execution_count": null,
      "outputs": [
        {
          "output_type": "execute_result",
          "data": {
            "text/plain": [
              "                ID  Severity           Start_Time             End_Time  \\\n",
              "0              A-1         3  2016-02-08 00:37:08  2016-02-08 06:37:08   \n",
              "1              A-2         2  2016-02-08 05:56:20  2016-02-08 11:56:20   \n",
              "2              A-3         2  2016-02-08 06:15:39  2016-02-08 12:15:39   \n",
              "3              A-4         2  2016-02-08 06:51:45  2016-02-08 12:51:45   \n",
              "4              A-5         3  2016-02-08 07:53:43  2016-02-08 13:53:43   \n",
              "...            ...       ...                  ...                  ...   \n",
              "2845337  A-2845338         2  2019-08-23 18:03:25  2019-08-23 18:32:01   \n",
              "2845338  A-2845339         2  2019-08-23 19:11:30  2019-08-23 19:38:23   \n",
              "2845339  A-2845340         2  2019-08-23 19:00:21  2019-08-23 19:28:49   \n",
              "2845340  A-2845341         2  2019-08-23 19:00:21  2019-08-23 19:29:42   \n",
              "2845341  A-2845342         2  2019-08-23 18:52:06  2019-08-23 19:21:31   \n",
              "\n",
              "         Start_Lat   Start_Lng    End_Lat     End_Lng  Distance(mi)  \\\n",
              "0        40.108910  -83.092860  40.112060  -83.031870         3.230   \n",
              "1        39.865420  -84.062800  39.865010  -84.048730         0.747   \n",
              "2        39.102660  -84.524680  39.102090  -84.523960         0.055   \n",
              "3        41.062130  -81.537840  41.062170  -81.535470         0.123   \n",
              "4        39.172393  -84.492792  39.170476  -84.501798         0.500   \n",
              "...            ...         ...        ...         ...           ...   \n",
              "2845337  34.002480 -117.379360  33.998880 -117.370940         0.543   \n",
              "2845338  32.766960 -117.148060  32.765550 -117.153630         0.338   \n",
              "2845339  33.775450 -117.847790  33.777400 -117.857270         0.561   \n",
              "2845340  33.992460 -118.403020  33.983110 -118.395650         0.772   \n",
              "2845341  34.133930 -117.230920  34.137360 -117.239340         0.537   \n",
              "\n",
              "                                               Description  ...  Roundabout  \\\n",
              "0        Between Sawmill Rd/Exit 20 and OH-315/Olentang...  ...       False   \n",
              "1                       At OH-4/OH-235/Exit 41 - Accident.  ...       False   \n",
              "2                         At I-71/US-50/Exit 1 - Accident.  ...       False   \n",
              "3                          At Dart Ave/Exit 21 - Accident.  ...       False   \n",
              "4                       At Mitchell Ave/Exit 6 - Accident.  ...       False   \n",
              "...                                                    ...  ...         ...   \n",
              "2845337                           At Market St - Accident.  ...       False   \n",
              "2845338    At Camino Del Rio/Mission Center Rd - Accident.  ...       False   \n",
              "2845339  At Glassell St/Grand Ave - Accident. in the ri...  ...       False   \n",
              "2845340     At CA-90/Marina Fwy/Jefferson Blvd - Accident.  ...       False   \n",
              "2845341              At Highland Ave/Arden Ave - Accident.  ...       False   \n",
              "\n",
              "        Station   Stop Traffic_Calming Traffic_Signal Turning_Loop  \\\n",
              "0         False  False           False          False        False   \n",
              "1         False  False           False          False        False   \n",
              "2         False  False           False          False        False   \n",
              "3         False  False           False          False        False   \n",
              "4         False  False           False          False        False   \n",
              "...         ...    ...             ...            ...          ...   \n",
              "2845337   False  False           False          False        False   \n",
              "2845338   False  False           False          False        False   \n",
              "2845339   False  False           False          False        False   \n",
              "2845340   False  False           False          False        False   \n",
              "2845341   False  False           False          False        False   \n",
              "\n",
              "        Sunrise_Sunset Civil_Twilight Nautical_Twilight Astronomical_Twilight  \n",
              "0                Night          Night             Night                 Night  \n",
              "1                Night          Night             Night                 Night  \n",
              "2                Night          Night             Night                   Day  \n",
              "3                Night          Night               Day                   Day  \n",
              "4                  Day            Day               Day                   Day  \n",
              "...                ...            ...               ...                   ...  \n",
              "2845337            Day            Day               Day                   Day  \n",
              "2845338            Day            Day               Day                   Day  \n",
              "2845339            Day            Day               Day                   Day  \n",
              "2845340            Day            Day               Day                   Day  \n",
              "2845341            Day            Day               Day                   Day  \n",
              "\n",
              "[2845342 rows x 47 columns]"
            ],
            "text/html": [
              "\n",
              "  <div id=\"df-aa04257f-3679-4fa5-a746-5fc34a173edb\">\n",
              "    <div class=\"colab-df-container\">\n",
              "      <div>\n",
              "<style scoped>\n",
              "    .dataframe tbody tr th:only-of-type {\n",
              "        vertical-align: middle;\n",
              "    }\n",
              "\n",
              "    .dataframe tbody tr th {\n",
              "        vertical-align: top;\n",
              "    }\n",
              "\n",
              "    .dataframe thead th {\n",
              "        text-align: right;\n",
              "    }\n",
              "</style>\n",
              "<table border=\"1\" class=\"dataframe\">\n",
              "  <thead>\n",
              "    <tr style=\"text-align: right;\">\n",
              "      <th></th>\n",
              "      <th>ID</th>\n",
              "      <th>Severity</th>\n",
              "      <th>Start_Time</th>\n",
              "      <th>End_Time</th>\n",
              "      <th>Start_Lat</th>\n",
              "      <th>Start_Lng</th>\n",
              "      <th>End_Lat</th>\n",
              "      <th>End_Lng</th>\n",
              "      <th>Distance(mi)</th>\n",
              "      <th>Description</th>\n",
              "      <th>...</th>\n",
              "      <th>Roundabout</th>\n",
              "      <th>Station</th>\n",
              "      <th>Stop</th>\n",
              "      <th>Traffic_Calming</th>\n",
              "      <th>Traffic_Signal</th>\n",
              "      <th>Turning_Loop</th>\n",
              "      <th>Sunrise_Sunset</th>\n",
              "      <th>Civil_Twilight</th>\n",
              "      <th>Nautical_Twilight</th>\n",
              "      <th>Astronomical_Twilight</th>\n",
              "    </tr>\n",
              "  </thead>\n",
              "  <tbody>\n",
              "    <tr>\n",
              "      <th>0</th>\n",
              "      <td>A-1</td>\n",
              "      <td>3</td>\n",
              "      <td>2016-02-08 00:37:08</td>\n",
              "      <td>2016-02-08 06:37:08</td>\n",
              "      <td>40.108910</td>\n",
              "      <td>-83.092860</td>\n",
              "      <td>40.112060</td>\n",
              "      <td>-83.031870</td>\n",
              "      <td>3.230</td>\n",
              "      <td>Between Sawmill Rd/Exit 20 and OH-315/Olentang...</td>\n",
              "      <td>...</td>\n",
              "      <td>False</td>\n",
              "      <td>False</td>\n",
              "      <td>False</td>\n",
              "      <td>False</td>\n",
              "      <td>False</td>\n",
              "      <td>False</td>\n",
              "      <td>Night</td>\n",
              "      <td>Night</td>\n",
              "      <td>Night</td>\n",
              "      <td>Night</td>\n",
              "    </tr>\n",
              "    <tr>\n",
              "      <th>1</th>\n",
              "      <td>A-2</td>\n",
              "      <td>2</td>\n",
              "      <td>2016-02-08 05:56:20</td>\n",
              "      <td>2016-02-08 11:56:20</td>\n",
              "      <td>39.865420</td>\n",
              "      <td>-84.062800</td>\n",
              "      <td>39.865010</td>\n",
              "      <td>-84.048730</td>\n",
              "      <td>0.747</td>\n",
              "      <td>At OH-4/OH-235/Exit 41 - Accident.</td>\n",
              "      <td>...</td>\n",
              "      <td>False</td>\n",
              "      <td>False</td>\n",
              "      <td>False</td>\n",
              "      <td>False</td>\n",
              "      <td>False</td>\n",
              "      <td>False</td>\n",
              "      <td>Night</td>\n",
              "      <td>Night</td>\n",
              "      <td>Night</td>\n",
              "      <td>Night</td>\n",
              "    </tr>\n",
              "    <tr>\n",
              "      <th>2</th>\n",
              "      <td>A-3</td>\n",
              "      <td>2</td>\n",
              "      <td>2016-02-08 06:15:39</td>\n",
              "      <td>2016-02-08 12:15:39</td>\n",
              "      <td>39.102660</td>\n",
              "      <td>-84.524680</td>\n",
              "      <td>39.102090</td>\n",
              "      <td>-84.523960</td>\n",
              "      <td>0.055</td>\n",
              "      <td>At I-71/US-50/Exit 1 - Accident.</td>\n",
              "      <td>...</td>\n",
              "      <td>False</td>\n",
              "      <td>False</td>\n",
              "      <td>False</td>\n",
              "      <td>False</td>\n",
              "      <td>False</td>\n",
              "      <td>False</td>\n",
              "      <td>Night</td>\n",
              "      <td>Night</td>\n",
              "      <td>Night</td>\n",
              "      <td>Day</td>\n",
              "    </tr>\n",
              "    <tr>\n",
              "      <th>3</th>\n",
              "      <td>A-4</td>\n",
              "      <td>2</td>\n",
              "      <td>2016-02-08 06:51:45</td>\n",
              "      <td>2016-02-08 12:51:45</td>\n",
              "      <td>41.062130</td>\n",
              "      <td>-81.537840</td>\n",
              "      <td>41.062170</td>\n",
              "      <td>-81.535470</td>\n",
              "      <td>0.123</td>\n",
              "      <td>At Dart Ave/Exit 21 - Accident.</td>\n",
              "      <td>...</td>\n",
              "      <td>False</td>\n",
              "      <td>False</td>\n",
              "      <td>False</td>\n",
              "      <td>False</td>\n",
              "      <td>False</td>\n",
              "      <td>False</td>\n",
              "      <td>Night</td>\n",
              "      <td>Night</td>\n",
              "      <td>Day</td>\n",
              "      <td>Day</td>\n",
              "    </tr>\n",
              "    <tr>\n",
              "      <th>4</th>\n",
              "      <td>A-5</td>\n",
              "      <td>3</td>\n",
              "      <td>2016-02-08 07:53:43</td>\n",
              "      <td>2016-02-08 13:53:43</td>\n",
              "      <td>39.172393</td>\n",
              "      <td>-84.492792</td>\n",
              "      <td>39.170476</td>\n",
              "      <td>-84.501798</td>\n",
              "      <td>0.500</td>\n",
              "      <td>At Mitchell Ave/Exit 6 - Accident.</td>\n",
              "      <td>...</td>\n",
              "      <td>False</td>\n",
              "      <td>False</td>\n",
              "      <td>False</td>\n",
              "      <td>False</td>\n",
              "      <td>False</td>\n",
              "      <td>False</td>\n",
              "      <td>Day</td>\n",
              "      <td>Day</td>\n",
              "      <td>Day</td>\n",
              "      <td>Day</td>\n",
              "    </tr>\n",
              "    <tr>\n",
              "      <th>...</th>\n",
              "      <td>...</td>\n",
              "      <td>...</td>\n",
              "      <td>...</td>\n",
              "      <td>...</td>\n",
              "      <td>...</td>\n",
              "      <td>...</td>\n",
              "      <td>...</td>\n",
              "      <td>...</td>\n",
              "      <td>...</td>\n",
              "      <td>...</td>\n",
              "      <td>...</td>\n",
              "      <td>...</td>\n",
              "      <td>...</td>\n",
              "      <td>...</td>\n",
              "      <td>...</td>\n",
              "      <td>...</td>\n",
              "      <td>...</td>\n",
              "      <td>...</td>\n",
              "      <td>...</td>\n",
              "      <td>...</td>\n",
              "      <td>...</td>\n",
              "    </tr>\n",
              "    <tr>\n",
              "      <th>2845337</th>\n",
              "      <td>A-2845338</td>\n",
              "      <td>2</td>\n",
              "      <td>2019-08-23 18:03:25</td>\n",
              "      <td>2019-08-23 18:32:01</td>\n",
              "      <td>34.002480</td>\n",
              "      <td>-117.379360</td>\n",
              "      <td>33.998880</td>\n",
              "      <td>-117.370940</td>\n",
              "      <td>0.543</td>\n",
              "      <td>At Market St - Accident.</td>\n",
              "      <td>...</td>\n",
              "      <td>False</td>\n",
              "      <td>False</td>\n",
              "      <td>False</td>\n",
              "      <td>False</td>\n",
              "      <td>False</td>\n",
              "      <td>False</td>\n",
              "      <td>Day</td>\n",
              "      <td>Day</td>\n",
              "      <td>Day</td>\n",
              "      <td>Day</td>\n",
              "    </tr>\n",
              "    <tr>\n",
              "      <th>2845338</th>\n",
              "      <td>A-2845339</td>\n",
              "      <td>2</td>\n",
              "      <td>2019-08-23 19:11:30</td>\n",
              "      <td>2019-08-23 19:38:23</td>\n",
              "      <td>32.766960</td>\n",
              "      <td>-117.148060</td>\n",
              "      <td>32.765550</td>\n",
              "      <td>-117.153630</td>\n",
              "      <td>0.338</td>\n",
              "      <td>At Camino Del Rio/Mission Center Rd - Accident.</td>\n",
              "      <td>...</td>\n",
              "      <td>False</td>\n",
              "      <td>False</td>\n",
              "      <td>False</td>\n",
              "      <td>False</td>\n",
              "      <td>False</td>\n",
              "      <td>False</td>\n",
              "      <td>Day</td>\n",
              "      <td>Day</td>\n",
              "      <td>Day</td>\n",
              "      <td>Day</td>\n",
              "    </tr>\n",
              "    <tr>\n",
              "      <th>2845339</th>\n",
              "      <td>A-2845340</td>\n",
              "      <td>2</td>\n",
              "      <td>2019-08-23 19:00:21</td>\n",
              "      <td>2019-08-23 19:28:49</td>\n",
              "      <td>33.775450</td>\n",
              "      <td>-117.847790</td>\n",
              "      <td>33.777400</td>\n",
              "      <td>-117.857270</td>\n",
              "      <td>0.561</td>\n",
              "      <td>At Glassell St/Grand Ave - Accident. in the ri...</td>\n",
              "      <td>...</td>\n",
              "      <td>False</td>\n",
              "      <td>False</td>\n",
              "      <td>False</td>\n",
              "      <td>False</td>\n",
              "      <td>False</td>\n",
              "      <td>False</td>\n",
              "      <td>Day</td>\n",
              "      <td>Day</td>\n",
              "      <td>Day</td>\n",
              "      <td>Day</td>\n",
              "    </tr>\n",
              "    <tr>\n",
              "      <th>2845340</th>\n",
              "      <td>A-2845341</td>\n",
              "      <td>2</td>\n",
              "      <td>2019-08-23 19:00:21</td>\n",
              "      <td>2019-08-23 19:29:42</td>\n",
              "      <td>33.992460</td>\n",
              "      <td>-118.403020</td>\n",
              "      <td>33.983110</td>\n",
              "      <td>-118.395650</td>\n",
              "      <td>0.772</td>\n",
              "      <td>At CA-90/Marina Fwy/Jefferson Blvd - Accident.</td>\n",
              "      <td>...</td>\n",
              "      <td>False</td>\n",
              "      <td>False</td>\n",
              "      <td>False</td>\n",
              "      <td>False</td>\n",
              "      <td>False</td>\n",
              "      <td>False</td>\n",
              "      <td>Day</td>\n",
              "      <td>Day</td>\n",
              "      <td>Day</td>\n",
              "      <td>Day</td>\n",
              "    </tr>\n",
              "    <tr>\n",
              "      <th>2845341</th>\n",
              "      <td>A-2845342</td>\n",
              "      <td>2</td>\n",
              "      <td>2019-08-23 18:52:06</td>\n",
              "      <td>2019-08-23 19:21:31</td>\n",
              "      <td>34.133930</td>\n",
              "      <td>-117.230920</td>\n",
              "      <td>34.137360</td>\n",
              "      <td>-117.239340</td>\n",
              "      <td>0.537</td>\n",
              "      <td>At Highland Ave/Arden Ave - Accident.</td>\n",
              "      <td>...</td>\n",
              "      <td>False</td>\n",
              "      <td>False</td>\n",
              "      <td>False</td>\n",
              "      <td>False</td>\n",
              "      <td>False</td>\n",
              "      <td>False</td>\n",
              "      <td>Day</td>\n",
              "      <td>Day</td>\n",
              "      <td>Day</td>\n",
              "      <td>Day</td>\n",
              "    </tr>\n",
              "  </tbody>\n",
              "</table>\n",
              "<p>2845342 rows × 47 columns</p>\n",
              "</div>\n",
              "      <button class=\"colab-df-convert\" onclick=\"convertToInteractive('df-aa04257f-3679-4fa5-a746-5fc34a173edb')\"\n",
              "              title=\"Convert this dataframe to an interactive table.\"\n",
              "              style=\"display:none;\">\n",
              "        \n",
              "  <svg xmlns=\"http://www.w3.org/2000/svg\" height=\"24px\"viewBox=\"0 0 24 24\"\n",
              "       width=\"24px\">\n",
              "    <path d=\"M0 0h24v24H0V0z\" fill=\"none\"/>\n",
              "    <path d=\"M18.56 5.44l.94 2.06.94-2.06 2.06-.94-2.06-.94-.94-2.06-.94 2.06-2.06.94zm-11 1L8.5 8.5l.94-2.06 2.06-.94-2.06-.94L8.5 2.5l-.94 2.06-2.06.94zm10 10l.94 2.06.94-2.06 2.06-.94-2.06-.94-.94-2.06-.94 2.06-2.06.94z\"/><path d=\"M17.41 7.96l-1.37-1.37c-.4-.4-.92-.59-1.43-.59-.52 0-1.04.2-1.43.59L10.3 9.45l-7.72 7.72c-.78.78-.78 2.05 0 2.83L4 21.41c.39.39.9.59 1.41.59.51 0 1.02-.2 1.41-.59l7.78-7.78 2.81-2.81c.8-.78.8-2.07 0-2.86zM5.41 20L4 18.59l7.72-7.72 1.47 1.35L5.41 20z\"/>\n",
              "  </svg>\n",
              "      </button>\n",
              "      \n",
              "  <style>\n",
              "    .colab-df-container {\n",
              "      display:flex;\n",
              "      flex-wrap:wrap;\n",
              "      gap: 12px;\n",
              "    }\n",
              "\n",
              "    .colab-df-convert {\n",
              "      background-color: #E8F0FE;\n",
              "      border: none;\n",
              "      border-radius: 50%;\n",
              "      cursor: pointer;\n",
              "      display: none;\n",
              "      fill: #1967D2;\n",
              "      height: 32px;\n",
              "      padding: 0 0 0 0;\n",
              "      width: 32px;\n",
              "    }\n",
              "\n",
              "    .colab-df-convert:hover {\n",
              "      background-color: #E2EBFA;\n",
              "      box-shadow: 0px 1px 2px rgba(60, 64, 67, 0.3), 0px 1px 3px 1px rgba(60, 64, 67, 0.15);\n",
              "      fill: #174EA6;\n",
              "    }\n",
              "\n",
              "    [theme=dark] .colab-df-convert {\n",
              "      background-color: #3B4455;\n",
              "      fill: #D2E3FC;\n",
              "    }\n",
              "\n",
              "    [theme=dark] .colab-df-convert:hover {\n",
              "      background-color: #434B5C;\n",
              "      box-shadow: 0px 1px 3px 1px rgba(0, 0, 0, 0.15);\n",
              "      filter: drop-shadow(0px 1px 2px rgba(0, 0, 0, 0.3));\n",
              "      fill: #FFFFFF;\n",
              "    }\n",
              "  </style>\n",
              "\n",
              "      <script>\n",
              "        const buttonEl =\n",
              "          document.querySelector('#df-aa04257f-3679-4fa5-a746-5fc34a173edb button.colab-df-convert');\n",
              "        buttonEl.style.display =\n",
              "          google.colab.kernel.accessAllowed ? 'block' : 'none';\n",
              "\n",
              "        async function convertToInteractive(key) {\n",
              "          const element = document.querySelector('#df-aa04257f-3679-4fa5-a746-5fc34a173edb');\n",
              "          const dataTable =\n",
              "            await google.colab.kernel.invokeFunction('convertToInteractive',\n",
              "                                                     [key], {});\n",
              "          if (!dataTable) return;\n",
              "\n",
              "          const docLinkHtml = 'Like what you see? Visit the ' +\n",
              "            '<a target=\"_blank\" href=https://colab.research.google.com/notebooks/data_table.ipynb>data table notebook</a>'\n",
              "            + ' to learn more about interactive tables.';\n",
              "          element.innerHTML = '';\n",
              "          dataTable['output_type'] = 'display_data';\n",
              "          await google.colab.output.renderOutput(dataTable, element);\n",
              "          const docLink = document.createElement('div');\n",
              "          docLink.innerHTML = docLinkHtml;\n",
              "          element.appendChild(docLink);\n",
              "        }\n",
              "      </script>\n",
              "    </div>\n",
              "  </div>\n",
              "  "
            ]
          },
          "metadata": {},
          "execution_count": 11
        }
      ]
    },
    {
      "cell_type": "code",
      "source": [
        "df.info()"
      ],
      "metadata": {
        "colab": {
          "base_uri": "https://localhost:8080/"
        },
        "id": "ItMcZiEA3U9K",
        "outputId": "80fbf2a8-d585-4de2-bae8-67aaddf5680e"
      },
      "execution_count": null,
      "outputs": [
        {
          "output_type": "stream",
          "name": "stdout",
          "text": [
            "<class 'pandas.core.frame.DataFrame'>\n",
            "RangeIndex: 2845342 entries, 0 to 2845341\n",
            "Data columns (total 47 columns):\n",
            " #   Column                 Dtype  \n",
            "---  ------                 -----  \n",
            " 0   ID                     object \n",
            " 1   Severity               int64  \n",
            " 2   Start_Time             object \n",
            " 3   End_Time               object \n",
            " 4   Start_Lat              float64\n",
            " 5   Start_Lng              float64\n",
            " 6   End_Lat                float64\n",
            " 7   End_Lng                float64\n",
            " 8   Distance(mi)           float64\n",
            " 9   Description            object \n",
            " 10  Number                 float64\n",
            " 11  Street                 object \n",
            " 12  Side                   object \n",
            " 13  City                   object \n",
            " 14  County                 object \n",
            " 15  State                  object \n",
            " 16  Zipcode                object \n",
            " 17  Country                object \n",
            " 18  Timezone               object \n",
            " 19  Airport_Code           object \n",
            " 20  Weather_Timestamp      object \n",
            " 21  Temperature(F)         float64\n",
            " 22  Wind_Chill(F)          float64\n",
            " 23  Humidity(%)            float64\n",
            " 24  Pressure(in)           float64\n",
            " 25  Visibility(mi)         float64\n",
            " 26  Wind_Direction         object \n",
            " 27  Wind_Speed(mph)        float64\n",
            " 28  Precipitation(in)      float64\n",
            " 29  Weather_Condition      object \n",
            " 30  Amenity                bool   \n",
            " 31  Bump                   bool   \n",
            " 32  Crossing               bool   \n",
            " 33  Give_Way               bool   \n",
            " 34  Junction               bool   \n",
            " 35  No_Exit                bool   \n",
            " 36  Railway                bool   \n",
            " 37  Roundabout             bool   \n",
            " 38  Station                bool   \n",
            " 39  Stop                   bool   \n",
            " 40  Traffic_Calming        bool   \n",
            " 41  Traffic_Signal         bool   \n",
            " 42  Turning_Loop           bool   \n",
            " 43  Sunrise_Sunset         object \n",
            " 44  Civil_Twilight         object \n",
            " 45  Nautical_Twilight      object \n",
            " 46  Astronomical_Twilight  object \n",
            "dtypes: bool(13), float64(13), int64(1), object(20)\n",
            "memory usage: 773.4+ MB\n"
          ]
        }
      ]
    },
    {
      "cell_type": "code",
      "source": [
        "df.describe()"
      ],
      "metadata": {
        "colab": {
          "base_uri": "https://localhost:8080/",
          "height": 364
        },
        "id": "deXOtwLHAnKI",
        "outputId": "70f029b2-23a0-4a23-e9e7-7b4507e88b52"
      },
      "execution_count": null,
      "outputs": [
        {
          "output_type": "execute_result",
          "data": {
            "text/plain": [
              "           Severity     Start_Lat     Start_Lng       End_Lat       End_Lng  \\\n",
              "count  2.845342e+06  2.845342e+06  2.845342e+06  2.845342e+06  2.845342e+06   \n",
              "mean   2.137572e+00  3.624520e+01 -9.711463e+01  3.624532e+01 -9.711439e+01   \n",
              "std    4.787216e-01  5.363797e+00  1.831782e+01  5.363873e+00  1.831763e+01   \n",
              "min    1.000000e+00  2.456603e+01 -1.245481e+02  2.456601e+01 -1.245457e+02   \n",
              "25%    2.000000e+00  3.344517e+01 -1.180331e+02  3.344628e+01 -1.180333e+02   \n",
              "50%    2.000000e+00  3.609861e+01 -9.241808e+01  3.609799e+01 -9.241772e+01   \n",
              "75%    2.000000e+00  4.016024e+01 -8.037243e+01  4.016105e+01 -8.037338e+01   \n",
              "max    4.000000e+00  4.900058e+01 -6.711317e+01  4.907500e+01 -6.710924e+01   \n",
              "\n",
              "       Distance(mi)        Number  Temperature(F)  Wind_Chill(F)  \\\n",
              "count  2.845342e+06  1.101431e+06    2.776068e+06   2.375699e+06   \n",
              "mean   7.026779e-01  8.089408e+03    6.179356e+01   5.965823e+01   \n",
              "std    1.560361e+00  1.836009e+04    1.862263e+01   2.116097e+01   \n",
              "min    0.000000e+00  0.000000e+00   -8.900000e+01  -8.900000e+01   \n",
              "25%    5.200000e-02  1.270000e+03    5.000000e+01   4.600000e+01   \n",
              "50%    2.440000e-01  4.007000e+03    6.400000e+01   6.300000e+01   \n",
              "75%    7.640000e-01  9.567000e+03    7.600000e+01   7.600000e+01   \n",
              "max    1.551860e+02  9.999997e+06    1.960000e+02   1.960000e+02   \n",
              "\n",
              "        Humidity(%)  Pressure(in)  Visibility(mi)  Wind_Speed(mph)  \\\n",
              "count  2.772250e+06  2.786142e+06    2.774796e+06     2.687398e+06   \n",
              "mean   6.436545e+01  2.947234e+01    9.099391e+00     7.395044e+00   \n",
              "std    2.287457e+01  1.045286e+00    2.717546e+00     5.527454e+00   \n",
              "min    1.000000e+00  0.000000e+00    0.000000e+00     0.000000e+00   \n",
              "25%    4.800000e+01  2.931000e+01    1.000000e+01     3.500000e+00   \n",
              "50%    6.700000e+01  2.982000e+01    1.000000e+01     7.000000e+00   \n",
              "75%    8.300000e+01  3.001000e+01    1.000000e+01     1.000000e+01   \n",
              "max    1.000000e+02  5.890000e+01    1.400000e+02     1.087000e+03   \n",
              "\n",
              "       Precipitation(in)  \n",
              "count       2.295884e+06  \n",
              "mean        7.016940e-03  \n",
              "std         9.348831e-02  \n",
              "min         0.000000e+00  \n",
              "25%         0.000000e+00  \n",
              "50%         0.000000e+00  \n",
              "75%         0.000000e+00  \n",
              "max         2.400000e+01  "
            ],
            "text/html": [
              "\n",
              "  <div id=\"df-048f2dc3-472e-4b97-9673-061ee9468638\">\n",
              "    <div class=\"colab-df-container\">\n",
              "      <div>\n",
              "<style scoped>\n",
              "    .dataframe tbody tr th:only-of-type {\n",
              "        vertical-align: middle;\n",
              "    }\n",
              "\n",
              "    .dataframe tbody tr th {\n",
              "        vertical-align: top;\n",
              "    }\n",
              "\n",
              "    .dataframe thead th {\n",
              "        text-align: right;\n",
              "    }\n",
              "</style>\n",
              "<table border=\"1\" class=\"dataframe\">\n",
              "  <thead>\n",
              "    <tr style=\"text-align: right;\">\n",
              "      <th></th>\n",
              "      <th>Severity</th>\n",
              "      <th>Start_Lat</th>\n",
              "      <th>Start_Lng</th>\n",
              "      <th>End_Lat</th>\n",
              "      <th>End_Lng</th>\n",
              "      <th>Distance(mi)</th>\n",
              "      <th>Number</th>\n",
              "      <th>Temperature(F)</th>\n",
              "      <th>Wind_Chill(F)</th>\n",
              "      <th>Humidity(%)</th>\n",
              "      <th>Pressure(in)</th>\n",
              "      <th>Visibility(mi)</th>\n",
              "      <th>Wind_Speed(mph)</th>\n",
              "      <th>Precipitation(in)</th>\n",
              "    </tr>\n",
              "  </thead>\n",
              "  <tbody>\n",
              "    <tr>\n",
              "      <th>count</th>\n",
              "      <td>2.845342e+06</td>\n",
              "      <td>2.845342e+06</td>\n",
              "      <td>2.845342e+06</td>\n",
              "      <td>2.845342e+06</td>\n",
              "      <td>2.845342e+06</td>\n",
              "      <td>2.845342e+06</td>\n",
              "      <td>1.101431e+06</td>\n",
              "      <td>2.776068e+06</td>\n",
              "      <td>2.375699e+06</td>\n",
              "      <td>2.772250e+06</td>\n",
              "      <td>2.786142e+06</td>\n",
              "      <td>2.774796e+06</td>\n",
              "      <td>2.687398e+06</td>\n",
              "      <td>2.295884e+06</td>\n",
              "    </tr>\n",
              "    <tr>\n",
              "      <th>mean</th>\n",
              "      <td>2.137572e+00</td>\n",
              "      <td>3.624520e+01</td>\n",
              "      <td>-9.711463e+01</td>\n",
              "      <td>3.624532e+01</td>\n",
              "      <td>-9.711439e+01</td>\n",
              "      <td>7.026779e-01</td>\n",
              "      <td>8.089408e+03</td>\n",
              "      <td>6.179356e+01</td>\n",
              "      <td>5.965823e+01</td>\n",
              "      <td>6.436545e+01</td>\n",
              "      <td>2.947234e+01</td>\n",
              "      <td>9.099391e+00</td>\n",
              "      <td>7.395044e+00</td>\n",
              "      <td>7.016940e-03</td>\n",
              "    </tr>\n",
              "    <tr>\n",
              "      <th>std</th>\n",
              "      <td>4.787216e-01</td>\n",
              "      <td>5.363797e+00</td>\n",
              "      <td>1.831782e+01</td>\n",
              "      <td>5.363873e+00</td>\n",
              "      <td>1.831763e+01</td>\n",
              "      <td>1.560361e+00</td>\n",
              "      <td>1.836009e+04</td>\n",
              "      <td>1.862263e+01</td>\n",
              "      <td>2.116097e+01</td>\n",
              "      <td>2.287457e+01</td>\n",
              "      <td>1.045286e+00</td>\n",
              "      <td>2.717546e+00</td>\n",
              "      <td>5.527454e+00</td>\n",
              "      <td>9.348831e-02</td>\n",
              "    </tr>\n",
              "    <tr>\n",
              "      <th>min</th>\n",
              "      <td>1.000000e+00</td>\n",
              "      <td>2.456603e+01</td>\n",
              "      <td>-1.245481e+02</td>\n",
              "      <td>2.456601e+01</td>\n",
              "      <td>-1.245457e+02</td>\n",
              "      <td>0.000000e+00</td>\n",
              "      <td>0.000000e+00</td>\n",
              "      <td>-8.900000e+01</td>\n",
              "      <td>-8.900000e+01</td>\n",
              "      <td>1.000000e+00</td>\n",
              "      <td>0.000000e+00</td>\n",
              "      <td>0.000000e+00</td>\n",
              "      <td>0.000000e+00</td>\n",
              "      <td>0.000000e+00</td>\n",
              "    </tr>\n",
              "    <tr>\n",
              "      <th>25%</th>\n",
              "      <td>2.000000e+00</td>\n",
              "      <td>3.344517e+01</td>\n",
              "      <td>-1.180331e+02</td>\n",
              "      <td>3.344628e+01</td>\n",
              "      <td>-1.180333e+02</td>\n",
              "      <td>5.200000e-02</td>\n",
              "      <td>1.270000e+03</td>\n",
              "      <td>5.000000e+01</td>\n",
              "      <td>4.600000e+01</td>\n",
              "      <td>4.800000e+01</td>\n",
              "      <td>2.931000e+01</td>\n",
              "      <td>1.000000e+01</td>\n",
              "      <td>3.500000e+00</td>\n",
              "      <td>0.000000e+00</td>\n",
              "    </tr>\n",
              "    <tr>\n",
              "      <th>50%</th>\n",
              "      <td>2.000000e+00</td>\n",
              "      <td>3.609861e+01</td>\n",
              "      <td>-9.241808e+01</td>\n",
              "      <td>3.609799e+01</td>\n",
              "      <td>-9.241772e+01</td>\n",
              "      <td>2.440000e-01</td>\n",
              "      <td>4.007000e+03</td>\n",
              "      <td>6.400000e+01</td>\n",
              "      <td>6.300000e+01</td>\n",
              "      <td>6.700000e+01</td>\n",
              "      <td>2.982000e+01</td>\n",
              "      <td>1.000000e+01</td>\n",
              "      <td>7.000000e+00</td>\n",
              "      <td>0.000000e+00</td>\n",
              "    </tr>\n",
              "    <tr>\n",
              "      <th>75%</th>\n",
              "      <td>2.000000e+00</td>\n",
              "      <td>4.016024e+01</td>\n",
              "      <td>-8.037243e+01</td>\n",
              "      <td>4.016105e+01</td>\n",
              "      <td>-8.037338e+01</td>\n",
              "      <td>7.640000e-01</td>\n",
              "      <td>9.567000e+03</td>\n",
              "      <td>7.600000e+01</td>\n",
              "      <td>7.600000e+01</td>\n",
              "      <td>8.300000e+01</td>\n",
              "      <td>3.001000e+01</td>\n",
              "      <td>1.000000e+01</td>\n",
              "      <td>1.000000e+01</td>\n",
              "      <td>0.000000e+00</td>\n",
              "    </tr>\n",
              "    <tr>\n",
              "      <th>max</th>\n",
              "      <td>4.000000e+00</td>\n",
              "      <td>4.900058e+01</td>\n",
              "      <td>-6.711317e+01</td>\n",
              "      <td>4.907500e+01</td>\n",
              "      <td>-6.710924e+01</td>\n",
              "      <td>1.551860e+02</td>\n",
              "      <td>9.999997e+06</td>\n",
              "      <td>1.960000e+02</td>\n",
              "      <td>1.960000e+02</td>\n",
              "      <td>1.000000e+02</td>\n",
              "      <td>5.890000e+01</td>\n",
              "      <td>1.400000e+02</td>\n",
              "      <td>1.087000e+03</td>\n",
              "      <td>2.400000e+01</td>\n",
              "    </tr>\n",
              "  </tbody>\n",
              "</table>\n",
              "</div>\n",
              "      <button class=\"colab-df-convert\" onclick=\"convertToInteractive('df-048f2dc3-472e-4b97-9673-061ee9468638')\"\n",
              "              title=\"Convert this dataframe to an interactive table.\"\n",
              "              style=\"display:none;\">\n",
              "        \n",
              "  <svg xmlns=\"http://www.w3.org/2000/svg\" height=\"24px\"viewBox=\"0 0 24 24\"\n",
              "       width=\"24px\">\n",
              "    <path d=\"M0 0h24v24H0V0z\" fill=\"none\"/>\n",
              "    <path d=\"M18.56 5.44l.94 2.06.94-2.06 2.06-.94-2.06-.94-.94-2.06-.94 2.06-2.06.94zm-11 1L8.5 8.5l.94-2.06 2.06-.94-2.06-.94L8.5 2.5l-.94 2.06-2.06.94zm10 10l.94 2.06.94-2.06 2.06-.94-2.06-.94-.94-2.06-.94 2.06-2.06.94z\"/><path d=\"M17.41 7.96l-1.37-1.37c-.4-.4-.92-.59-1.43-.59-.52 0-1.04.2-1.43.59L10.3 9.45l-7.72 7.72c-.78.78-.78 2.05 0 2.83L4 21.41c.39.39.9.59 1.41.59.51 0 1.02-.2 1.41-.59l7.78-7.78 2.81-2.81c.8-.78.8-2.07 0-2.86zM5.41 20L4 18.59l7.72-7.72 1.47 1.35L5.41 20z\"/>\n",
              "  </svg>\n",
              "      </button>\n",
              "      \n",
              "  <style>\n",
              "    .colab-df-container {\n",
              "      display:flex;\n",
              "      flex-wrap:wrap;\n",
              "      gap: 12px;\n",
              "    }\n",
              "\n",
              "    .colab-df-convert {\n",
              "      background-color: #E8F0FE;\n",
              "      border: none;\n",
              "      border-radius: 50%;\n",
              "      cursor: pointer;\n",
              "      display: none;\n",
              "      fill: #1967D2;\n",
              "      height: 32px;\n",
              "      padding: 0 0 0 0;\n",
              "      width: 32px;\n",
              "    }\n",
              "\n",
              "    .colab-df-convert:hover {\n",
              "      background-color: #E2EBFA;\n",
              "      box-shadow: 0px 1px 2px rgba(60, 64, 67, 0.3), 0px 1px 3px 1px rgba(60, 64, 67, 0.15);\n",
              "      fill: #174EA6;\n",
              "    }\n",
              "\n",
              "    [theme=dark] .colab-df-convert {\n",
              "      background-color: #3B4455;\n",
              "      fill: #D2E3FC;\n",
              "    }\n",
              "\n",
              "    [theme=dark] .colab-df-convert:hover {\n",
              "      background-color: #434B5C;\n",
              "      box-shadow: 0px 1px 3px 1px rgba(0, 0, 0, 0.15);\n",
              "      filter: drop-shadow(0px 1px 2px rgba(0, 0, 0, 0.3));\n",
              "      fill: #FFFFFF;\n",
              "    }\n",
              "  </style>\n",
              "\n",
              "      <script>\n",
              "        const buttonEl =\n",
              "          document.querySelector('#df-048f2dc3-472e-4b97-9673-061ee9468638 button.colab-df-convert');\n",
              "        buttonEl.style.display =\n",
              "          google.colab.kernel.accessAllowed ? 'block' : 'none';\n",
              "\n",
              "        async function convertToInteractive(key) {\n",
              "          const element = document.querySelector('#df-048f2dc3-472e-4b97-9673-061ee9468638');\n",
              "          const dataTable =\n",
              "            await google.colab.kernel.invokeFunction('convertToInteractive',\n",
              "                                                     [key], {});\n",
              "          if (!dataTable) return;\n",
              "\n",
              "          const docLinkHtml = 'Like what you see? Visit the ' +\n",
              "            '<a target=\"_blank\" href=https://colab.research.google.com/notebooks/data_table.ipynb>data table notebook</a>'\n",
              "            + ' to learn more about interactive tables.';\n",
              "          element.innerHTML = '';\n",
              "          dataTable['output_type'] = 'display_data';\n",
              "          await google.colab.output.renderOutput(dataTable, element);\n",
              "          const docLink = document.createElement('div');\n",
              "          docLink.innerHTML = docLinkHtml;\n",
              "          element.appendChild(docLink);\n",
              "        }\n",
              "      </script>\n",
              "    </div>\n",
              "  </div>\n",
              "  "
            ]
          },
          "metadata": {},
          "execution_count": 13
        }
      ]
    },
    {
      "cell_type": "code",
      "source": [
        "numerics = ['int16', 'int32', 'int64', 'float16', 'float32', 'float64']\n",
        "\n",
        "numeric_df = df.select_dtypes(include=numerics)\n",
        "len(numeric_df.columns)"
      ],
      "metadata": {
        "colab": {
          "base_uri": "https://localhost:8080/"
        },
        "id": "kRQeiRJDBHTX",
        "outputId": "4ddf521a-8e08-410b-974d-5d920e1750e5"
      },
      "execution_count": null,
      "outputs": [
        {
          "output_type": "execute_result",
          "data": {
            "text/plain": [
              "14"
            ]
          },
          "metadata": {},
          "execution_count": 14
        }
      ]
    },
    {
      "cell_type": "code",
      "source": [
        "missing_percentages = df.isna().sum().sort_values(ascending=False) / len(df)\n",
        "missing_percentages"
      ],
      "metadata": {
        "colab": {
          "base_uri": "https://localhost:8080/"
        },
        "id": "H_oZj-X6BLWj",
        "outputId": "5667ab39-8384-4737-c562-765eef3ecd92"
      },
      "execution_count": null,
      "outputs": [
        {
          "output_type": "execute_result",
          "data": {
            "text/plain": [
              "Number                   6.129003e-01\n",
              "Precipitation(in)        1.931079e-01\n",
              "Wind_Chill(F)            1.650568e-01\n",
              "Wind_Speed(mph)          5.550967e-02\n",
              "Wind_Direction           2.592834e-02\n",
              "Humidity(%)              2.568830e-02\n",
              "Weather_Condition        2.482514e-02\n",
              "Visibility(mi)           2.479350e-02\n",
              "Temperature(F)           2.434646e-02\n",
              "Pressure(in)             2.080593e-02\n",
              "Weather_Timestamp        1.783125e-02\n",
              "Airport_Code             3.356011e-03\n",
              "Timezone                 1.285961e-03\n",
              "Nautical_Twilight        1.007612e-03\n",
              "Civil_Twilight           1.007612e-03\n",
              "Sunrise_Sunset           1.007612e-03\n",
              "Astronomical_Twilight    1.007612e-03\n",
              "Zipcode                  4.635647e-04\n",
              "City                     4.814887e-05\n",
              "Street                   7.029032e-07\n",
              "Country                  0.000000e+00\n",
              "Junction                 0.000000e+00\n",
              "Start_Time               0.000000e+00\n",
              "End_Time                 0.000000e+00\n",
              "Start_Lat                0.000000e+00\n",
              "Turning_Loop             0.000000e+00\n",
              "Traffic_Signal           0.000000e+00\n",
              "Traffic_Calming          0.000000e+00\n",
              "Stop                     0.000000e+00\n",
              "Station                  0.000000e+00\n",
              "Roundabout               0.000000e+00\n",
              "Railway                  0.000000e+00\n",
              "No_Exit                  0.000000e+00\n",
              "Crossing                 0.000000e+00\n",
              "Give_Way                 0.000000e+00\n",
              "Bump                     0.000000e+00\n",
              "Amenity                  0.000000e+00\n",
              "Start_Lng                0.000000e+00\n",
              "End_Lat                  0.000000e+00\n",
              "End_Lng                  0.000000e+00\n",
              "Distance(mi)             0.000000e+00\n",
              "Description              0.000000e+00\n",
              "Severity                 0.000000e+00\n",
              "Side                     0.000000e+00\n",
              "County                   0.000000e+00\n",
              "State                    0.000000e+00\n",
              "ID                       0.000000e+00\n",
              "dtype: float64"
            ]
          },
          "metadata": {},
          "execution_count": 15
        }
      ]
    },
    {
      "cell_type": "code",
      "source": [
        "type(missing_percentages)"
      ],
      "metadata": {
        "colab": {
          "base_uri": "https://localhost:8080/"
        },
        "id": "CBsf5R5jBPMO",
        "outputId": "f0dee84c-a818-44f7-f01f-761588305a61"
      },
      "execution_count": null,
      "outputs": [
        {
          "output_type": "execute_result",
          "data": {
            "text/plain": [
              "pandas.core.series.Series"
            ]
          },
          "metadata": {},
          "execution_count": 16
        }
      ]
    },
    {
      "cell_type": "code",
      "source": [
        "missing_percentages[missing_percentages != 0].plot(kind='barh')"
      ],
      "metadata": {
        "colab": {
          "base_uri": "https://localhost:8080/",
          "height": 283
        },
        "id": "xhevz1XaBdYz",
        "outputId": "a794a084-2d7c-4684-9cc2-c45bf0f3ac2c"
      },
      "execution_count": null,
      "outputs": [
        {
          "output_type": "execute_result",
          "data": {
            "text/plain": [
              "<matplotlib.axes._subplots.AxesSubplot at 0x7fa32bd8ffd0>"
            ]
          },
          "metadata": {},
          "execution_count": 17
        },
        {
          "output_type": "display_data",
          "data": {
            "text/plain": [
              "<Figure size 432x288 with 1 Axes>"
            ],
            "image/png": "[encoded data removed]"
          },
          "metadata": {
            "needs_background": "light"
          }
        }
      ]
    },
    {
      "cell_type": "code",
      "source": [
        "df.columns"
      ],
      "metadata": {
        "colab": {
          "base_uri": "https://localhost:8080/"
        },
        "id": "VcnICSqyBidm",
        "outputId": "ae6b0b4a-1779-4732-9519-23adee3b9c6e"
      },
      "execution_count": null,
      "outputs": [
        {
          "output_type": "execute_result",
          "data": {
            "text/plain": [
              "Index(['ID', 'Severity', 'Start_Time', 'End_Time', 'Start_Lat', 'Start_Lng',\n",
              "       'End_Lat', 'End_Lng', 'Distance(mi)', 'Description', 'Number', 'Street',\n",
              "       'Side', 'City', 'County', 'State', 'Zipcode', 'Country', 'Timezone',\n",
              "       'Airport_Code', 'Weather_Timestamp', 'Temperature(F)', 'Wind_Chill(F)',\n",
              "       'Humidity(%)', 'Pressure(in)', 'Visibility(mi)', 'Wind_Direction',\n",
              "       'Wind_Speed(mph)', 'Precipitation(in)', 'Weather_Condition', 'Amenity',\n",
              "       'Bump', 'Crossing', 'Give_Way', 'Junction', 'No_Exit', 'Railway',\n",
              "       'Roundabout', 'Station', 'Stop', 'Traffic_Calming', 'Traffic_Signal',\n",
              "       'Turning_Loop', 'Sunrise_Sunset', 'Civil_Twilight', 'Nautical_Twilight',\n",
              "       'Astronomical_Twilight'],\n",
              "      dtype='object')"
            ]
          },
          "metadata": {},
          "execution_count": 18
        }
      ]
    },
    {
      "cell_type": "code",
      "source": [
        "df.City"
      ],
      "metadata": {
        "colab": {
          "base_uri": "https://localhost:8080/"
        },
        "id": "BPv3T9hmBlbp",
        "outputId": "38544aeb-88ab-47d5-f803-28ef01d331d2"
      },
      "execution_count": null,
      "outputs": [
        {
          "output_type": "execute_result",
          "data": {
            "text/plain": [
              "0               Dublin\n",
              "1               Dayton\n",
              "2           Cincinnati\n",
              "3                Akron\n",
              "4           Cincinnati\n",
              "              ...     \n",
              "2845337      Riverside\n",
              "2845338      San Diego\n",
              "2845339         Orange\n",
              "2845340    Culver City\n",
              "2845341       Highland\n",
              "Name: City, Length: 2845342, dtype: object"
            ]
          },
          "metadata": {},
          "execution_count": 19
        }
      ]
    },
    {
      "cell_type": "code",
      "source": [
        "cities = df.City.unique()\n",
        "len(cities)"
      ],
      "metadata": {
        "colab": {
          "base_uri": "https://localhost:8080/"
        },
        "id": "jp6NitI4Bp1Z",
        "outputId": "12344234-d8ba-4bc2-effd-ca3373b5560d"
      },
      "execution_count": null,
      "outputs": [
        {
          "output_type": "execute_result",
          "data": {
            "text/plain": [
              "11682"
            ]
          },
          "metadata": {},
          "execution_count": 20
        }
      ]
    },
    {
      "cell_type": "code",
      "source": [
        "cities_by_accident = df.City.value_counts()\n",
        "cities_by_accident"
      ],
      "metadata": {
        "colab": {
          "base_uri": "https://localhost:8080/"
        },
        "id": "rx-ZLCVzBswk",
        "outputId": "6d61a69f-544f-45e9-a1bf-1b7af8eb1a2f"
      },
      "execution_count": null,
      "outputs": [
        {
          "output_type": "execute_result",
          "data": {
            "text/plain": [
              "Miami                           106966\n",
              "Los Angeles                      68956\n",
              "Orlando                          54691\n",
              "Dallas                           41979\n",
              "Houston                          39448\n",
              "                                 ...  \n",
              "Ridgedale                            1\n",
              "Sekiu                                1\n",
              "Wooldridge                           1\n",
              "Bullock                              1\n",
              "American Fork-Pleasant Grove         1\n",
              "Name: City, Length: 11681, dtype: int64"
            ]
          },
          "metadata": {},
          "execution_count": 21
        }
      ]
    },
    {
      "cell_type": "code",
      "source": [
        "cities_by_accident[:20]"
      ],
      "metadata": {
        "colab": {
          "base_uri": "https://localhost:8080/"
        },
        "id": "miUIhTyoBwZQ",
        "outputId": "a96cdf08-358f-42c5-ab48-30567fb48b66"
      },
      "execution_count": null,
      "outputs": [
        {
          "output_type": "execute_result",
          "data": {
            "text/plain": [
              "Miami           106966\n",
              "Los Angeles      68956\n",
              "Orlando          54691\n",
              "Dallas           41979\n",
              "Houston          39448\n",
              "Charlotte        33152\n",
              "Sacramento       32559\n",
              "San Diego        26627\n",
              "Raleigh          22840\n",
              "Minneapolis      22768\n",
              "Portland         20944\n",
              "Nashville        20267\n",
              "Austin           18301\n",
              "Baton Rouge      18182\n",
              "Phoenix          17143\n",
              "Saint Paul       16869\n",
              "New Orleans      16251\n",
              "Atlanta          15622\n",
              "Jacksonville     14967\n",
              "Richmond         14349\n",
              "Name: City, dtype: int64"
            ]
          },
          "metadata": {},
          "execution_count": 22
        }
      ]
    },
    {
      "cell_type": "code",
      "source": [
        "type(cities_by_accident)"
      ],
      "metadata": {
        "colab": {
          "base_uri": "https://localhost:8080/"
        },
        "id": "ol6Xa4YMBzJv",
        "outputId": "01b74f13-5f0d-484b-f844-013dbe3f7904"
      },
      "execution_count": null,
      "outputs": [
        {
          "output_type": "execute_result",
          "data": {
            "text/plain": [
              "pandas.core.series.Series"
            ]
          },
          "metadata": {},
          "execution_count": 23
        }
      ]
    },
    {
      "cell_type": "code",
      "source": [
        "cities_by_accident[:20].plot(kind='barh')"
      ],
      "metadata": {
        "colab": {
          "base_uri": "https://localhost:8080/",
          "height": 283
        },
        "id": "QDoBI988B4Gf",
        "outputId": "e39cb075-14e0-4bbe-e61f-f47a75b14e8c"
      },
      "execution_count": null,
      "outputs": [
        {
          "output_type": "execute_result",
          "data": {
            "text/plain": [
              "<matplotlib.axes._subplots.AxesSubplot at 0x7fa30dfa4b10>"
            ]
          },
          "metadata": {},
          "execution_count": 24
        },
        {
          "output_type": "display_data",
          "data": {
            "text/plain": [
              "<Figure size 432x288 with 1 Axes>"
            ],
            "image/png": "[encoded data removed]"
          },
          "metadata": {
            "needs_background": "light"
          }
        }
      ]
    },
    {
      "cell_type": "code",
      "source": [
        "import seaborn as sns\n",
        "sns.set_style(\"darkgrid\")"
      ],
      "metadata": {
        "id": "QNbmXDFUB6vD"
      },
      "execution_count": null,
      "outputs": []
    },
    {
      "cell_type": "code",
      "source": [
        "sns.histplot(cities_by_accident, log_scale=True)"
      ],
      "metadata": {
        "colab": {
          "base_uri": "https://localhost:8080/",
          "height": 301
        },
        "id": "deQp4yxRB9gS",
        "outputId": "248b3f9a-ca13-4909-fffe-25327cc2ab26"
      },
      "execution_count": null,
      "outputs": [
        {
          "output_type": "execute_result",
          "data": {
            "text/plain": [
              "<matplotlib.axes._subplots.AxesSubplot at 0x7fa301850b10>"
            ]
          },
          "metadata": {},
          "execution_count": 26
        },
        {
          "output_type": "display_data",
          "data": {
            "text/plain": [
              "<Figure size 432x288 with 1 Axes>"
            ],
            "image/png": "[encoded data removed]"
          },
          "metadata": {}
        }
      ]
    },
    {
      "cell_type": "code",
      "source": [
        "cities_by_accident[cities_by_accident == 1]"
      ],
      "metadata": {
        "colab": {
          "base_uri": "https://localhost:8080/"
        },
        "id": "rywnJeWFCDyU",
        "outputId": "af991e5f-5a5f-47cf-a0df-0a8faf544a48"
      },
      "execution_count": null,
      "outputs": [
        {
          "output_type": "execute_result",
          "data": {
            "text/plain": [
              "Carney                          1\n",
              "Waverly Hall                    1\n",
              "Center Sandwich                 1\n",
              "Glen Flora                      1\n",
              "Sulphur Springs                 1\n",
              "                               ..\n",
              "Ridgedale                       1\n",
              "Sekiu                           1\n",
              "Wooldridge                      1\n",
              "Bullock                         1\n",
              "American Fork-Pleasant Grove    1\n",
              "Name: City, Length: 1110, dtype: int64"
            ]
          },
          "metadata": {},
          "execution_count": 27
        }
      ]
    },
    {
      "cell_type": "code",
      "source": [
        "df.Start_Time\n"
      ],
      "metadata": {
        "colab": {
          "base_uri": "https://localhost:8080/"
        },
        "id": "j3C1GCbbCGtF",
        "outputId": "797b415e-dd21-4848-b2ae-70ee2cfd4e1c"
      },
      "execution_count": null,
      "outputs": [
        {
          "output_type": "execute_result",
          "data": {
            "text/plain": [
              "0          2016-02-08 00:37:08\n",
              "1          2016-02-08 05:56:20\n",
              "2          2016-02-08 06:15:39\n",
              "3          2016-02-08 06:51:45\n",
              "4          2016-02-08 07:53:43\n",
              "                  ...         \n",
              "2845337    2019-08-23 18:03:25\n",
              "2845338    2019-08-23 19:11:30\n",
              "2845339    2019-08-23 19:00:21\n",
              "2845340    2019-08-23 19:00:21\n",
              "2845341    2019-08-23 18:52:06\n",
              "Name: Start_Time, Length: 2845342, dtype: object"
            ]
          },
          "metadata": {},
          "execution_count": 28
        }
      ]
    },
    {
      "cell_type": "code",
      "source": [
        "df.Start_Time = pd.to_datetime(df.Start_Time)"
      ],
      "metadata": {
        "id": "mORiWTuECJtN"
      },
      "execution_count": null,
      "outputs": []
    },
    {
      "cell_type": "code",
      "source": [
        "sns.distplot(df.Start_Time.dt.hour, bins=24, kde=False, norm_hist=True)"
      ],
      "metadata": {
        "colab": {
          "base_uri": "https://localhost:8080/",
          "height": 354
        },
        "id": "185a563MCOEB",
        "outputId": "62d62299-2116-402e-af50-f7fd8d40f6d9"
      },
      "execution_count": null,
      "outputs": [
        {
          "output_type": "stream",
          "name": "stderr",
          "text": [
            "/usr/local/lib/python3.7/dist-packages/seaborn/distributions.py:2619: FutureWarning: `distplot` is a deprecated function and will be removed in a future version. Please adapt your code to use either `displot` (a figure-level function with similar flexibility) or `histplot` (an axes-level function for histograms).\n",
            "  warnings.warn(msg, FutureWarning)\n"
          ]
        },
        {
          "output_type": "execute_result",
          "data": {
            "text/plain": [
              "<matplotlib.axes._subplots.AxesSubplot at 0x7fa30152ddd0>"
            ]
          },
          "metadata": {},
          "execution_count": 30
        },
        {
          "output_type": "display_data",
          "data": {
            "text/plain": [
              "<Figure size 432x288 with 1 Axes>"
            ],
            "image/png": "[encoded data removed]"
          },
          "metadata": {}
        }
      ]
    },
    {
      "cell_type": "code",
      "source": [
        "sns.distplot(df.Start_Time.dt.dayofweek, bins=7, kde=False, norm_hist=True)"
      ],
      "metadata": {
        "colab": {
          "base_uri": "https://localhost:8080/",
          "height": 354
        },
        "id": "UVJMLIgRCSWR",
        "outputId": "895fe34d-5719-43aa-ac33-e4d7629c6d4d"
      },
      "execution_count": null,
      "outputs": [
        {
          "output_type": "stream",
          "name": "stderr",
          "text": [
            "/usr/local/lib/python3.7/dist-packages/seaborn/distributions.py:2619: FutureWarning: `distplot` is a deprecated function and will be removed in a future version. Please adapt your code to use either `displot` (a figure-level function with similar flexibility) or `histplot` (an axes-level function for histograms).\n",
            "  warnings.warn(msg, FutureWarning)\n"
          ]
        },
        {
          "output_type": "execute_result",
          "data": {
            "text/plain": [
              "<matplotlib.axes._subplots.AxesSubplot at 0x7fa3014aba90>"
            ]
          },
          "metadata": {},
          "execution_count": 31
        },
        {
          "output_type": "display_data",
          "data": {
            "text/plain": [
              "<Figure size 432x288 with 1 Axes>"
            ],
            "image/png": "[encoded data removed]"
          },
          "metadata": {}
        }
      ]
    },
    {
      "cell_type": "code",
      "source": [
        "sundays_start_time = df.Start_Time[df.Start_Time.dt.dayofweek == 6]\n",
        "sns.distplot(sundays_start_time.dt.hour, bins=24, kde=False, norm_hist=True)"
      ],
      "metadata": {
        "colab": {
          "base_uri": "https://localhost:8080/",
          "height": 354
        },
        "id": "hh4QYp6TCW_z",
        "outputId": "cdf5f386-2419-4772-9eeb-f391eabdf5a5"
      },
      "execution_count": null,
      "outputs": [
        {
          "output_type": "stream",
          "name": "stderr",
          "text": [
            "/usr/local/lib/python3.7/dist-packages/seaborn/distributions.py:2619: FutureWarning: `distplot` is a deprecated function and will be removed in a future version. Please adapt your code to use either `displot` (a figure-level function with similar flexibility) or `histplot` (an axes-level function for histograms).\n",
            "  warnings.warn(msg, FutureWarning)\n"
          ]
        },
        {
          "output_type": "execute_result",
          "data": {
            "text/plain": [
              "<matplotlib.axes._subplots.AxesSubplot at 0x7fa301673fd0>"
            ]
          },
          "metadata": {},
          "execution_count": 32
        },
        {
          "output_type": "display_data",
          "data": {
            "text/plain": [
              "<Figure size 432x288 with 1 Axes>"
            ],
            "image/png": "[encoded data removed]"
          },
          "metadata": {}
        }
      ]
    },
    {
      "cell_type": "code",
      "source": [
        "monday_start_time = df.Start_Time[df.Start_Time.dt.dayofweek == 0]\n",
        "sns.distplot(monday_start_time.dt.hour, bins=24, kde=False, norm_hist=True)"
      ],
      "metadata": {
        "colab": {
          "base_uri": "https://localhost:8080/",
          "height": 354
        },
        "id": "aE4UHdXYCdhv",
        "outputId": "c322ea30-fd85-47cf-ce8b-7e03cf9fde69"
      },
      "execution_count": null,
      "outputs": [
        {
          "output_type": "stream",
          "name": "stderr",
          "text": [
            "/usr/local/lib/python3.7/dist-packages/seaborn/distributions.py:2619: FutureWarning: `distplot` is a deprecated function and will be removed in a future version. Please adapt your code to use either `displot` (a figure-level function with similar flexibility) or `histplot` (an axes-level function for histograms).\n",
            "  warnings.warn(msg, FutureWarning)\n"
          ]
        },
        {
          "output_type": "execute_result",
          "data": {
            "text/plain": [
              "<matplotlib.axes._subplots.AxesSubplot at 0x7fa30160b510>"
            ]
          },
          "metadata": {},
          "execution_count": 33
        },
        {
          "output_type": "display_data",
          "data": {
            "text/plain": [
              "<Figure size 432x288 with 1 Axes>"
            ],
            "image/png": "[encoded data removed]"
          },
          "metadata": {}
        }
      ]
    },
    {
      "cell_type": "code",
      "source": [
        "df.Start_Lat"
      ],
      "metadata": {
        "colab": {
          "base_uri": "https://localhost:8080/"
        },
        "id": "txNBAOZLFkkG",
        "outputId": "31e08e55-1af4-427c-89b4-09091cc63b1e"
      },
      "execution_count": null,
      "outputs": [
        {
          "output_type": "execute_result",
          "data": {
            "text/plain": [
              "0          40.108910\n",
              "1          39.865420\n",
              "2          39.102660\n",
              "3          41.062130\n",
              "4          39.172393\n",
              "             ...    \n",
              "2845337    34.002480\n",
              "2845338    32.766960\n",
              "2845339    33.775450\n",
              "2845340    33.992460\n",
              "2845341    34.133930\n",
              "Name: Start_Lat, Length: 2845342, dtype: float64"
            ]
          },
          "metadata": {},
          "execution_count": 36
        }
      ]
    },
    {
      "cell_type": "code",
      "source": [
        "df.Start_Lng"
      ],
      "metadata": {
        "colab": {
          "base_uri": "https://localhost:8080/"
        },
        "id": "dXqzHbMFFsAx",
        "outputId": "f482765a-6e77-4f9d-f3cf-8b48263a4eca"
      },
      "execution_count": null,
      "outputs": [
        {
          "output_type": "execute_result",
          "data": {
            "text/plain": [
              "0          -83.092860\n",
              "1          -84.062800\n",
              "2          -84.524680\n",
              "3          -81.537840\n",
              "4          -84.492792\n",
              "              ...    \n",
              "2845337   -117.379360\n",
              "2845338   -117.148060\n",
              "2845339   -117.847790\n",
              "2845340   -118.403020\n",
              "2845341   -117.230920\n",
              "Name: Start_Lng, Length: 2845342, dtype: float64"
            ]
          },
          "metadata": {},
          "execution_count": 37
        }
      ]
    },
    {
      "cell_type": "code",
      "source": [
        "sample_df = df.sample(int(0.1 * len(df)))"
      ],
      "metadata": {
        "id": "PrrESN1GFvjm"
      },
      "execution_count": null,
      "outputs": []
    },
    {
      "cell_type": "code",
      "source": [
        "sns.scatterplot(x=sample_df.Start_Lng, y=sample_df.Start_Lat, size=0.001)"
      ],
      "metadata": {
        "colab": {
          "base_uri": "https://localhost:8080/",
          "height": 300
        },
        "id": "FlCjTV1jFylJ",
        "outputId": "95840be0-e851-48b8-f113-a27c7a7849d2"
      },
      "execution_count": null,
      "outputs": [
        {
          "output_type": "execute_result",
          "data": {
            "text/plain": [
              "<matplotlib.axes._subplots.AxesSubplot at 0x7fa30200e1d0>"
            ]
          },
          "metadata": {},
          "execution_count": 39
        },
        {
          "output_type": "display_data",
          "data": {
            "text/plain": [
              "<Figure size 432x288 with 1 Axes>"
            ],
            "image/png": "[encoded data removed]"
          },
          "metadata": {}
        }
      ]
    },
    {
      "cell_type": "code",
      "source": [
        "import folium"
      ],
      "metadata": {
        "id": "qKnQDAdcGKcg"
      },
      "execution_count": null,
      "outputs": []
    },
    {
      "cell_type": "code",
      "source": [
        "lat, lon = df.Start_Lat[0], df.Start_Lng[0]\n",
        "lat, lon"
      ],
      "metadata": {
        "colab": {
          "base_uri": "https://localhost:8080/"
        },
        "id": "8-V8PH0cGNB_",
        "outputId": "9713ab4e-239b-418b-e762-244525c368e1"
      },
      "execution_count": null,
      "outputs": [
        {
          "output_type": "execute_result",
          "data": {
            "text/plain": [
              "(40.10891, -83.09286)"
            ]
          },
          "metadata": {},
          "execution_count": 41
        }
      ]
    },
    {
      "cell_type": "code",
      "source": [
        "for x in df[['Start_Lat', 'Start_Lng']].sample(100).iteritems():\n",
        "    print(x[1])"
      ],
      "metadata": {
        "colab": {
          "base_uri": "https://localhost:8080/"
        },
        "id": "UkLS61QkGPkk",
        "outputId": "a3fa4acf-d89b-46c3-e3d5-21473aacef81"
      },
      "execution_count": null,
      "outputs": [
        {
          "output_type": "stream",
          "name": "stdout",
          "text": [
            "218637     41.645943\n",
            "1066574    43.004738\n",
            "1369791    41.257835\n",
            "2618239    35.106470\n",
            "121369     34.656320\n",
            "             ...    \n",
            "2633627    42.228860\n",
            "513548     39.638253\n",
            "2791152    39.477010\n",
            "2601293    39.823100\n",
            "1669657    33.591245\n",
            "Name: Start_Lat, Length: 100, dtype: float64\n",
            "218637     -72.674868\n",
            "1066574    -76.091586\n",
            "1369791    -72.993233\n",
            "2618239    -80.766750\n",
            "121369    -118.153160\n",
            "              ...    \n",
            "2633627    -83.692720\n",
            "513548     -76.670590\n",
            "2791152    -76.844440\n",
            "2601293   -104.967300\n",
            "1669657    -86.158615\n",
            "Name: Start_Lng, Length: 100, dtype: float64\n"
          ]
        }
      ]
    },
    {
      "cell_type": "code",
      "source": [
        "zip(list(df.Start_Lat), list(df.Start_Lng))"
      ],
      "metadata": {
        "colab": {
          "base_uri": "https://localhost:8080/"
        },
        "id": "64m1LO-uGScV",
        "outputId": "f21835ba-2c6b-46d5-cabb-0a7074dfb055"
      },
      "execution_count": null,
      "outputs": [
        {
          "output_type": "execute_result",
          "data": {
            "text/plain": [
              "<zip at 0x7fa3013e2780>"
            ]
          },
          "metadata": {},
          "execution_count": 43
        }
      ]
    },
    {
      "cell_type": "code",
      "source": [
        "from folium.plugins import HeatMap"
      ],
      "metadata": {
        "id": "yfyCvID1GUto"
      },
      "execution_count": null,
      "outputs": []
    },
    {
      "cell_type": "code",
      "source": [
        "sample_df = df.sample(int(0.001 * len(df)))\n",
        "lat_lon_pairs = list(zip(list(sample_df.Start_Lat), list(sample_df.Start_Lng)))"
      ],
      "metadata": {
        "id": "nNMSrbZzGX1Z"
      },
      "execution_count": null,
      "outputs": []
    },
    {
      "cell_type": "code",
      "source": [
        "map = folium.Map()\n",
        "HeatMap(lat_lon_pairs).add_to(map)\n",
        "map"
      ],
      "metadata": {
        "colab": {
          "base_uri": "https://localhost:8080/",
          "height": 558
        },
        "id": "yxExNkM2GdZZ",
        "outputId": "74507264-165e-48cf-947a-8c0b6410b18a"
      },
      "execution_count": null,
      "outputs": [
        {
          "output_type": "execute_result",
          "data": {
            "text/plain": [
              "<folium.folium.Map at 0x7fa2f4331b50>"
            ],
            "text/html": [
              "<div style=\"width:100%;\"><div style=\"position:relative;width:100%;height:0;padding-bottom:60%;\"><span style=\"color:#565656\">Make this Notebook Trusted to load map: File -> Trust Notebook</span><iframe srcdoc=\"&lt;!DOCTYPE html&gt;\n",
              "&lt;head&gt;    \n",
              "    &lt;meta http-equiv=&quot;content-type&quot; content=&quot;text/html; charset=UTF-8&quot; /&gt;\n",
              "    \n",
              "        &lt;script&gt;\n",
              "            L_NO_TOUCH = false;\n",
              "            L_DISABLE_3D = false;\n",
              "        &lt;/script&gt;\n",
              "    \n",
              "    &lt;style&gt;html, body {width: 100%;height: 100%;margin: 0;padding: 0;}&lt;/style&gt;\n",
              "    &lt;style&gt;#map {position:absolute;top:0;bottom:0;right:0;left:0;}&lt;/style&gt;\n",
              "    &lt;script src=&quot;https://cdn.jsdelivr.net/npm/leaflet@1.6.0/dist/leaflet.js&quot;&gt;&lt;/script&gt;\n",
              "    &lt;script src=&quot;https://code.jquery.com/jquery-1.12.4.min.js&quot;&gt;&lt;/script&gt;\n",
              "    &lt;script src=&quot;https://maxcdn.bootstrapcdn.com/bootstrap/3.2.0/js/bootstrap.min.js&quot;&gt;&lt;/script&gt;\n",
              "    &lt;script src=&quot;https://cdnjs.cloudflare.com/ajax/libs/Leaflet.awesome-markers/2.0.2/leaflet.awesome-markers.js&quot;&gt;&lt;/script&gt;\n",
              "    &lt;link rel=&quot;stylesheet&quot; href=&quot;https://cdn.jsdelivr.net/npm/leaflet@1.6.0/dist/leaflet.css&quot;/&gt;\n",
              "    &lt;link rel=&quot;stylesheet&quot; href=&quot;https://maxcdn.bootstrapcdn.com/bootstrap/3.2.0/css/bootstrap.min.css&quot;/&gt;\n",
              "    &lt;link rel=&quot;stylesheet&quot; href=&quot;https://maxcdn.bootstrapcdn.com/bootstrap/3.2.0/css/bootstrap-theme.min.css&quot;/&gt;\n",
              "    &lt;link rel=&quot;stylesheet&quot; href=&quot;https://maxcdn.bootstrapcdn.com/font-awesome/4.6.3/css/font-awesome.min.css&quot;/&gt;\n",
              "    &lt;link rel=&quot;stylesheet&quot; href=&quot;https://cdnjs.cloudflare.com/ajax/libs/Leaflet.awesome-markers/2.0.2/leaflet.awesome-markers.css&quot;/&gt;\n",
              "    &lt;link rel=&quot;stylesheet&quot; href=&quot;https://cdn.jsdelivr.net/gh/python-visualization/folium/folium/templates/leaflet.awesome.rotate.min.css&quot;/&gt;\n",
              "    \n",
              "            &lt;meta name=&quot;viewport&quot; content=&quot;width=device-width,\n",
              "                initial-scale=1.0, maximum-scale=1.0, user-scalable=no&quot; /&gt;\n",
              "            &lt;style&gt;\n",
              "                #map_1eb11941139cc9f6ae586727129de259 {\n",
              "                    position: relative;\n",
              "                    width: 100.0%;\n",
              "                    height: 100.0%;\n",
              "                    left: 0.0%;\n",
              "                    top: 0.0%;\n",
              "                }\n",
              "            &lt;/style&gt;\n",
              "        \n",
              "    &lt;script src=&quot;https://cdn.jsdelivr.net/gh/python-visualization/folium@master/folium/templates/leaflet_heat.min.js&quot;&gt;&lt;/script&gt;\n",
              "&lt;/head&gt;\n",
              "&lt;body&gt;    \n",
              "    \n",
              "            &lt;div class=&quot;folium-map&quot; id=&quot;map_1eb11941139cc9f6ae586727129de259&quot; &gt;&lt;/div&gt;\n",
              "        \n",
              "&lt;/body&gt;\n",
              "&lt;script&gt;    \n",
              "    \n",
              "            var map_1eb11941139cc9f6ae586727129de259 = L.map(\n",
              "                &quot;map_1eb11941139cc9f6ae586727129de259&quot;,\n",
              "                {\n",
              "                    center: [0, 0],\n",
              "                    crs: L.CRS.EPSG3857,\n",
              "                    zoom: 1,\n",
              "                    zoomControl: true,\n",
              "                    preferCanvas: false,\n",
              "                }\n",
              "            );\n",
              "\n",
              "            \n",
              "\n",
              "        \n",
              "    \n",
              "            var tile_layer_b9f5d23abbc0c88215d1a05604a58405 = L.tileLayer(\n",
              "                &quot;https://{s}.tile.openstreetmap.org/{z}/{x}/{y}.png&quot;,\n",
              "                {&quot;attribution&quot;: &quot;Data by \\u0026copy; \\u003ca href=\\&quot;http://openstreetmap.org\\&quot;\\u003eOpenStreetMap\\u003c/a\\u003e, under \\u003ca href=\\&quot;http://www.openstreetmap.org/copyright\\&quot;\\u003eODbL\\u003c/a\\u003e.&quot;, &quot;detectRetina&quot;: false, &quot;maxNativeZoom&quot;: 18, &quot;maxZoom&quot;: 18, &quot;minZoom&quot;: 0, &quot;noWrap&quot;: false, &quot;opacity&quot;: 1, &quot;subdomains&quot;: &quot;abc&quot;, &quot;tms&quot;: false}\n",
              "            ).addTo(map_1eb11941139cc9f6ae586727129de259);\n",
              "        \n",
              "    \n",
              "            var heat_map_35c8044ce42a87a4c5ebb9272bec266c = L.heatLayer(\n",
              "                [[34.555603999999995, -82.681689], [33.4837, -86.7871], [35.39444, -118.985177], [38.662821, -121.350495], [38.845707, -77.303958], [27.801061, -82.353515], [36.21149000000001, -86.92104], [34.134972999999995, -117.630594], [28.433903000000004, -82.582894], [40.335762, -79.74497099999998], [32.815936, -117.22286499999998], [45.210811, -93.583845], [25.68198, -80.44246899999997], [41.273429, -72.970359], [32.651215, -96.767578], [33.471339, -112.112399], [33.98075, -110.305614], [37.76517, -122.39356], [37.335063, -80.01509], [37.364276, -121.843925], [37.818729, -122.293492], [40.54527, -80.03593000000002], [34.485508, -120.228946], [41.213691, -80.56782], [30.525622, -87.313316], [47.265127, -122.32199], [41.653143, -76.242452], [40.84544, -73.927806], [38.694757, -112.147317], [41.29123, -73.8502], [40.77309, -111.9494], [37.64095, -113.25551000000002], [40.119591, -76.49099100000002], [33.235433, -111.859256], [32.778620000000004, -96.85661], [35.790677, -119.143049], [36.829182, -121.70506], [42.47603, -83.11779], [38.25575300000001, -122.064432], [37.572388, -121.888314], [47.50194000000001, -94.93556], [27.96543, -82.43249], [34.002714000000005, -117.351852], [35.18009, -119.52735], [39.205027, -76.55969], [34.749697999999995, -92.409568], [25.628949, -80.340085], [37.61017, -122.39188], [29.770451, -95.410037], [38.230809, -78.98123100000002], [25.883562, -80.213193], [28.332544, -82.685559], [29.71149, -95.14288], [41.938955, -73.75351500000002], [40.268983, -86.663348], [37.6545, -122.4908], [40.60948, -111.968425], [32.190995, -110.927169], [34.06091, -117.804712], [38.483116, -78.624864], [37.995929, -122.326981], [32.086557, -110.83189099999998], [44.768767, -94.117945], [33.548029, -86.63222900000002], [39.973851, -111.505233], [43.94328, -122.86876], [28.982768, -81.896088], [33.442951, -112.084704], [38.976523, -77.403938], [39.97201, -75.00765], [42.82615300000001, -74.122686], [40.82539000000001, -73.86399], [28.518452000000003, -81.296446], [44.16668, -93.94899], [28.763982, -81.264635], [42.40693, -122.94495], [42.92534000000001, -85.682], [33.988133000000005, -117.843126], [28.194576, -82.524971], [40.166015, -75.12526], [32.84662, -96.63736], [35.0814, -85.20551], [29.692346, -95.284405], [34.136484, -117.441776], [32.91317, -117.11613], [32.68301, -117.17667], [41.16770800000001, -73.345091], [44.97237, -93.29404], [33.967721999999995, -117.689639], [25.627579, -80.414624], [45.591209, -111.197026], [38.833544, -76.060502], [37.36333, -121.89582], [38.405255, -122.810995], [42.066661, -88.21743599999998], [34.2745, -118.542791], [39.206626, -76.57356], [37.65093, -77.609086], [35.867565, -78.719219], [27.975643, -82.326532], [45.325461, -93.847748], [30.442465, -91.223003], [29.086164, -81.881393], [29.943135, -90.093839], [37.96922, -121.24563], [40.81155, -73.93479], [26.16469, -80.160917], [33.901878, -84.442391], [40.65634, -73.58223000000002], [45.41013, -122.51764], [25.925478, -80.291995], [34.142637, -118.47159], [26.517351, -81.794549], [35.704664, -78.662908], [32.464779, -93.774635], [25.499291, -80.453071], [39.452941, -76.30705999999998], [33.518101, -86.825754], [39.229877, -84.36675], [25.898438, -80.25908199999998], [42.402216, -122.936357], [34.228375, -117.414552], [34.100978999999995, -118.248697], [30.257114, -81.437042], [36.870974, -76.195536], [39.75046, -86.2313], [33.974661, -118.281264], [33.91135, -118.167539], [41.42499, -72.822114], [28.147368, -81.444008], [33.202, -117.12875], [33.8825, -117.64503], [25.796828, -80.338185], [42.412922, -82.943384], [39.576756, -112.181415], [34.061239, -117.396424], [39.84072800000001, -86.24633399999998], [30.08195, -81.527686], [33.83855, -81.15826899999998], [33.942618, -117.27935], [38.378565, -121.358497], [33.934961, -80.973873], [36.845494, -76.256221], [38.76948, -90.3382], [32.221556, -110.878762], [29.738696, -95.601386], [35.52918, -97.51761], [32.93613, -117.11127], [26.08511, -80.21433], [28.251359000000004, -82.352278], [41.93697, -88.08017], [25.962199, -80.186614], [37.561483, -77.500209], [25.884161, -80.35014], [35.662899, -79.847961], [37.72001, -121.65891], [37.41564, -121.91087], [33.861228000000004, -117.53736], [33.603525, -117.119359], [39.064404, -76.912338], [33.97541, -117.55844], [40.611141, -111.90616], [38.838165, -77.443273], [41.72824, -72.66553], [33.374753000000005, -81.857188], [43.92992, -91.36799], [45.246752, -93.555504], [32.42435, -110.9613], [38.368911, -121.992753], [37.215, -93.29405], [25.808044, -80.274597], [38.714367, -121.401197], [34.081681, -117.731455], [41.029, -81.54697], [28.35743, -81.49542], [37.554658, -76.452609], [26.092947, -80.22498900000002], [40.350948, -76.727796], [33.771225, -117.9892], [47.18003, -122.29352], [34.019182, -118.479976], [33.884166, -117.880624], [33.87616, -118.19011299999998], [39.11184, -94.56489], [43.68118, -94.6097], [34.104781, -118.325044], [36.76859, -76.600488], [37.56852, -122.31162], [40.62817, -73.92786], [36.091943, -94.191273], [45.22695, -122.81367], [44.16938, -93.25857], [42.29807, -83.78679], [33.48592, -117.66602], [33.930727000000005, -118.183532], [40.632981, -111.896479], [44.956837, -93.346886], [39.8327, -75.70749], [28.53174000000001, -82.236903], [30.31715, -82.8068], [30.227276, -97.775373], [39.16068, -94.63558], [42.98204000000001, -71.37111999999998], [28.341705, -81.414999], [39.264353, -104.894703], [38.662791, -94.375789], [28.468802, -81.417358], [32.73979, -96.82282], [39.354511, -76.746135], [37.437729, -77.713383], [40.234331, -75.239317], [42.678971, -78.943942], [30.390996, -97.759513], [43.403201, -73.273319], [39.37901, -77.40951], [35.738193, -78.589704], [32.782626, -96.778415], [25.818249, -80.24870899999998], [29.447247, -98.634906], [37.54349600000001, -122.020617], [34.025113, -117.73145900000002], [33.858932, -117.261407], [47.910616, -114.202853], [40.836407, -73.824591], [39.08927, -84.5227], [37.089351, -76.45926700000003], [33.962159, -118.282702], [34.07239000000001, -118.075121], [39.52415300000001, -122.249232], [27.816875, -82.664064], [34.277165000000004, -119.293091], [42.35494, -83.4362], [40.22686, -111.67775], [33.95386, -117.30432], [35.080815, -89.937804], [43.336397, -122.71463500000002], [44.183052, -93.256598], [43.070622, -75.33512900000002], [31.786754, -106.441396], [45.57751, -122.13402], [42.988975, -83.703956], [40.21212, -76.87722], [45.3977, -122.57393], [40.73525, -73.91933], [33.939207, -117.16128], [29.7379, -95.47666], [32.659042, -117.091773], [33.50946, -112.13419], [32.861407, -96.657335], [42.064712, -121.851462], [33.53049, -112.25507], [33.889571000000004, -84.262636], [34.055503, -118.198417], [32.970585, -117.249409], [42.39726, -83.43128], [26.673623, -80.070075], [37.39193, -122.16864], [35.346681, -119.033418], [44.97041, -93.34599], [25.915636, -80.33363299999998], [32.765959, -117.128315], [25.491252, -80.454411], [38.77973400000001, -77.523325], [39.35165, -76.49563], [39.212232, -74.691034], [28.546419, -81.285862], [25.731815, -80.31824399999998], [33.941808, -118.354845], [46.783182, -92.100467], [37.3123, -121.940627], [40.685694, -78.416882], [36.53723, -84.476386], [35.25174699999999, -80.859836], [37.578056, -122.401699], [47.013663, -104.313071], [40.955633, -73.851928], [30.383731, -91.068474], [35.58965, -82.5772], [30.605401, -87.344616], [38.606276, -121.432329], [41.998704, -121.520022], [37.815022, -122.358505], [34.152007, -118.128401], [41.68807, -87.60059], [41.214765, -73.810624], [35.123752, -85.122896], [34.297203, -118.416892], [34.137997, -118.27671], [33.85411, -117.79493], [37.243056, -121.810819], [26.301173, -80.120699], [36.150825, -86.778681], [41.42052, -81.7967], [33.87334, -118.20712], [27.447807, -82.545741], [32.9647, -117.09597], [28.450355, -81.399851], [39.636472, -75.94873299999998], [45.532976, -122.632387], [40.935047, -74.072817], [42.739044, -73.675514], [39.497594, -77.39821500000002], [45.50816, -122.68473], [34.045121, -118.173605], [45.06581, -93.16524], [41.78322, -87.63155], [35.583099, -77.132576], [36.228623, -86.725162], [40.483346, -74.4186], [43.210186, -77.698266], [45.116547, -93.390709], [43.015669, -83.681005], [33.900601, -118.105279], [47.638681, -122.376223], [35.22376, -80.87807], [47.73407, -122.326392], [28.242647, -80.678488], [32.474616999999995, -93.786568], [45.34365, -92.912139], [40.715922, -73.807833], [38.673888, -121.723994], [33.980409, -118.43906], [30.319821, -81.466307], [37.99481, -122.29124], [38.283784, -76.559665], [41.954737, -73.756617], [34.124854, -117.692059], [37.155221, -121.984964], [40.136783, -83.017022], [33.748047, -117.843449], [32.787191, -79.933114], [36.127612, -95.90458], [33.335684, -117.159007], [36.30052, -86.71106], [32.730213, -97.225023], [33.029146999999995, -96.99279], [41.680059, -87.776451], [28.30096, -81.57552], [39.09393, -94.68078], [40.147239, -75.11854], [37.088589, -80.632643], [34.129982, -118.001497], [33.172777, -87.452877], [25.767435, -80.30408], [26.54466, -81.852434], [43.010434, -123.698035], [34.846675, -83.071929], [33.745672, -117.842504], [39.89378, -74.92775], [27.381663, -82.513936], [37.473952, -120.848923], [44.972709, -93.088844], [47.61799, -122.34448], [35.207402, -80.867988], [35.755932, -78.625404], [43.173525, -77.602972], [30.457542, -91.058045], [30.269821000000004, -81.61301], [40.79894, -73.48221], [41.658536, -93.532758], [41.72711, -87.62476], [32.741305, -96.856737], [40.245797, -76.882026], [32.929291, -80.690837], [46.11649, -122.95064], [37.551736, -122.309369], [42.32954, -120.30047], [45.06949, -93.292261], [39.41254, -77.43570600000002], [34.71713, -77.32696], [26.370947, -81.75081999999998], [28.236178, -82.71677], [28.206243, -82.750546], [34.426332, -117.576248], [36.037656, -79.102259], [42.12347800000001, -76.067814], [34.593096, -90.998831], [37.39488400000001, -121.943], [25.826132, -80.318035], [35.089451000000004, -85.21434], [34.155570000000004, -83.64254], [34.054223, -118.004208], [38.796576, -77.134848], [40.167947, -75.211694], [36.56625800000001, -121.912935], [25.521724, -80.422958], [42.934723, -73.804305], [40.7152, -73.951951], [28.488306, -81.41750400000002], [41.681231, -122.630852], [39.28173, -120.709539], [30.421284000000004, -91.12477], [25.888411, -80.187442], [32.891939, -96.808573], [46.63886, -93.16672], [41.91118, -88.20711999999996], [45.2733, -123.17382], [44.28918, -95.99158], [33.876847, -84.44934], [27.298862, -82.526444], [38.566206, -121.470454], [34.102513, -118.329551], [27.9375, -82.55971], [45.568872, -111.196854], [36.608365, -77.563959], [34.062426, -118.985998], [36.967436, -121.985218], [33.368788, -86.777367], [36.776376, -76.289755], [37.87206, -84.33343], [33.609441, -112.312507], [33.61789, -117.71116], [34.03700300000001, -118.160389], [41.38389, -73.91223000000002], [32.909985, -96.933671], [38.57874, -121.46472], [34.060337, -81.04947800000002], [36.046561, -86.661261], [35.616336, -119.276835], [37.826428, -122.300534], [25.683088, -80.40050500000002], [40.79031, -73.93679], [34.05516, -118.21407], [42.924548, -85.682171], [33.967742, -118.163242], [34.365320000000004, -118.55666], [36.046348, -86.713363], [45.601669, -122.042567], [40.484029, -74.302049], [39.305212, -120.524892], [33.873536, -118.257591], [47.348235, -122.138574], [38.650499, -121.061285], [37.681087, -122.124294], [40.825635, -124.176117], [41.882617, -87.91928], [32.851191, -83.63053599999998], [40.116185, -77.370938], [28.05454000000001, -82.4261], [32.230228000000004, -110.982803], [41.026849, -121.422064], [33.869015000000005, -117.730573], [44.86142, -93.19086], [41.74525300000001, -78.390458], [45.05795, -93.401], [39.959695, -75.18083299999998], [39.869584, -75.327261], [47.343386, -122.292585], [33.790227, -79.076208], [42.27459, -85.42505], [34.878271000000005, -82.360279], [29.784958000000003, -95.723352], [37.5889, -121.87092], [32.22164, -110.908456], [41.709213, -122.642506], [35.37106, -119.043142], [38.42160300000001, -122.715493], [29.67429000000001, -95.57293], [39.02634000000001, -78.272062], [27.992037, -82.37015600000002], [27.791661, -82.340735], [33.913252, -118.141923], [44.775656, -93.318219], [37.694212, -122.405529], [28.551194, -81.475778], [33.50236, -117.6586], [33.562449, -117.672854], [26.390426, -80.099089], [41.74693, -87.62529], [45.408693, -122.571727], [41.93962, -87.70819], [33.542759999999994, -112.11244], [25.780708, -80.321083], [47.36228, -93.79485], [36.841235, -119.669565], [34.023668, -118.182653], [34.111125, -118.180351], [38.114426, -85.663905], [25.589586, -80.382597], [34.067840999999994, -117.403205], [40.190119, -74.74821700000003], [37.708613, -122.16373], [37.051876, -122.069965], [40.696266, -73.979455], [42.225515, -83.68575899999998], [45.670998, -111.157318], [38.66884500000001, -121.34691399999998], [42.01519, -88.14466], [37.43031, -122.10368], [45.387098, -122.750681], [37.321243, -121.834052], [25.93854, -80.121421], [25.910943, -80.210012], [25.763863, -80.303919], [42.38248, -87.95203000000002], [38.559412, -90.407132], [45.093038, -122.659722], [38.6361, -121.49634], [34.194986, -117.863548], [29.53948, -98.07569], [45.30235, -121.7565], [26.682189, -81.895659], [35.151415, -119.447816], [26.00525, -80.16678], [38.64394, -77.44318], [38.987656, -76.530579], [25.763147, -80.302359], [28.537319, -81.36529300000002], [34.01883, -81.10584], [35.08773, -80.93636], [44.347783, -124.094791], [39.33112, -120.286115], [34.379126, -118.566971], [42.401994, -82.970835], [34.104583, -80.829497], [39.94019, -75.36054], [47.596281, -97.08057], [34.117838, -118.337291], [29.824243, -95.379942], [36.033468, -86.584112], [33.98284, -84.34137], [35.390342, -84.722646], [39.580551, -76.106095], [29.690888, -95.283478], [40.697317, -111.980688], [42.92478, -78.89889000000002], [40.70311, -77.59052199999998], [47.053188, -96.941567], [33.858146999999995, -118.29054], [37.897229, -122.08031499999998], [40.715986, -73.975785], [41.306239, -111.992068], [30.47673300000001, -91.11298], [40.74197, -73.8976], [39.875982, -75.272687], [27.893675, -82.730262], [34.865355, -82.433279], [28.54823, -81.44384000000002], [39.659193, -84.146833], [32.412792, -80.64824899999998], [37.255581, -121.854167], [39.73479, -105.01503], [37.660349, -120.781534], [45.562665, -122.576628], [35.71107999999999, -119.064222], [34.996669, -117.596738], [34.829387, -82.702967], [38.228549, -121.951771], [43.031681, -83.664176], [39.8204, -104.97849], [25.788639, -80.205889], [33.040240000000004, -80.15098], [37.360767, -122.170127], [39.84041, -82.90914000000002], [33.984771, -117.90391], [34.00417, -117.407968], [33.746208, -117.453218], [28.081059000000003, -80.672612], [34.192925, -83.719427], [40.84524, -73.92778], [25.88496, -80.26657800000002], [41.068149, -73.495498], [34.44645, -82.39289000000002], [30.454651, -91.187252], [36.07765300000001, -86.76635999999998], [35.522568, -120.704131], [32.92459, -96.78684], [45.152808, -93.505232], [30.544021, -87.09389300000002], [33.955933, -117.380689], [25.899633, -80.18226999999997], [43.100815, -77.629538], [40.846137, -73.83679599999998], [27.879977, -82.657724], [38.663982, -121.224307], [45.720258, -119.018486], [33.5462, -86.58588], [37.131611, -113.521181], [27.695968, -80.895347], [34.842420000000004, -82.282737], [38.781571, -77.179161], [40.64227, -75.43488], [34.058558000000005, -117.977778], [37.551429, -121.066703], [42.24028, -87.92525], [41.427415, -73.629416], [43.001915, -78.415614], [38.86103, -77.35168], [36.239488, -119.755562], [39.353541, -77.393592], [36.972329, -121.721182], [40.51554, -74.82118], [38.79626, -77.19077], [30.527622, -84.000695], [30.091621000000004, -97.764211], [40.30922, -104.98087], [32.62243, -97.3217], [42.73311, -71.45525], [30.434782, -91.057495], [29.972354, -82.576346], [39.760383, -75.047719], [33.676924, -117.843533], [40.38579, -74.57199], [45.38755, -92.807352], [41.84939, -87.72952], [45.577389, -122.761609], [47.22756, -122.42664], [34.044825, -118.216047], [40.38976, -79.93337], [39.018448, -77.146114], [36.672717, -121.811231], [25.889528, -80.202738], [37.423518, -120.777185], [40.66466, -111.90151000000002], [33.810902, -81.007343], [33.919818, -80.839775], [32.806494, -96.791439], [45.316401, -93.56027], [38.799238, -77.55089], [38.625477, -77.294731], [45.680621, -118.898149], [40.72406, -73.47518000000002], [44.86579, -93.2034], [40.69864000000001, -73.51446], [33.24127, -97.1767], [40.58339, -73.96719], [33.945563, -117.868934], [38.894101, -77.014042], [36.475423, -119.636148], [41.41232, -73.91295799999997], [32.99296, -96.7099], [37.440054, -77.52444399999997], [25.886455, -80.21079499999998], [38.822175, -76.921366], [42.720563, -73.836258], [38.97564000000001, -76.896647], [30.417078000000004, -91.094978], [32.645533, -96.780416], [39.974523, -75.118263], [40.797632, -73.826844], [35.039115, -85.315308], [35.550188, -77.429777], [38.018595, -122.540231], [34.939645, -82.351337], [39.43321, -77.253591], [41.570045, -87.42296800000004], [29.779067, -95.421997], [45.79868, -120.0086], [45.713349, -110.400849], [34.161148, -118.43124], [40.16697, -74.646617], [40.68257, -73.57204], [36.161854, -86.777733], [34.221385, -118.474932], [45.851738, -108.455811], [36.984814, -120.087094], [34.300271, -118.420301], [25.685183, -80.418839], [44.799497, -93.038841], [29.938827000000003, -95.38329], [34.06902, -117.34901], [36.808141, -119.887182], [35.451462, -108.951728], [44.01017, -123.02177], [38.679834, -121.339404], [45.241712, -123.861481], [40.923525, -73.860236], [25.880138, -80.355719], [33.98229, -81.19338], [38.64747, -121.528756], [25.945115, -80.205365], [38.358927, -81.64115799999998], [29.658698, -82.435486], [26.171443, -80.862031], [40.779058, -77.771732], [29.72063, -95.26601], [37.367486, -121.9012], [28.571687, -81.475989], [34.156271999999994, -118.264356], [33.768752, -118.033832], [33.197497, -117.368413], [43.616718, -116.25354], [34.156461, -118.250473], [39.94883, -75.14161], [33.951631, -118.368986], [44.703143, -122.083745], [30.666443, -87.053635], [33.815296999999994, -117.51176], [25.730495, -80.335622], [34.919001, -81.989228], [34.205226, -118.988022], [40.535876, -122.384846], [45.37542, -122.75555], [28.496411, -81.718151], [34.313709, -81.04849200000002], [38.387161, -122.735335], [25.688176, -80.332065], [38.87238, -77.158113], [29.77807, -95.28706], [34.145596999999995, -117.305702], [45.10593, -93.39317], [41.417271, -73.402862], [30.502381, -87.22944], [43.633808, -116.356208], [27.772833, -82.680809], [34.065739, -117.507127], [26.763328, -80.093046], [34.058503, -118.177683], [32.914593, -96.717774], [39.098431, -94.604465], [40.92296, -73.84509], [37.31793, -121.97919], [33.9322, -118.36182], [35.992801, -79.557532], [45.572732, -93.209971], [41.053972, -73.83372], [30.232716, -97.737954], [34.056876, -117.298053], [32.423735, -111.040484], [39.823491, -74.73486], [27.10925, -82.37756], [35.54439, -82.707686], [41.73155, -70.45968], [47.54881, -122.31219], [33.498290000000004, -80.461496], [37.38486500000001, -76.762119], [35.17678, -78.697676], [29.9789, -95.27807], [30.736749, -81.65829699999998], [28.34225, -81.48339], [43.17693, -71.561551], [40.175038, -76.596754], [38.591622, -121.545139], [38.367199, -120.795878], [33.193892, -117.365409], [33.731506, -117.812189], [34.028231, -118.229938], [39.140857, -76.846694], [26.136607, -80.154616], [47.820928, -122.27876299999998], [36.113211, -86.81098100000001], [45.03712700000001, -93.011977], [44.988745, -93.349317], [33.448163, -112.09035], [28.12582, -82.696765], [38.086288, -122.215488], [37.631772, -122.084264], [37.073872, -76.47467900000002], [40.780087, -111.91065], [25.776227, -80.320684], [45.095669, -93.449074], [27.964679, -82.42174], [26.580744, -80.069099], [37.60016, -122.424], [38.902506, -77.057662], [32.783203, -96.811738], [32.764505, -96.934141], [40.071886, -75.308213], [26.008238, -80.16659200000002], [29.93893, -95.37492], [29.96912, -90.10652], [32.199634, -110.948959], [34.031508, -118.219824], [34.083559, -118.298817], [44.273904, -118.981558], [41.9653, -87.99033], [29.71094, -95.11314], [29.97823, -90.04822], [37.322863, -121.891754], [27.937967, -82.249954], [42.67155, -73.75545], [33.888992, -118.188797], [44.882787, -93.16124], [29.744497, -95.35706], [45.56641, -122.67853999999998], [43.057855, -76.074947], [33.916421, -118.291647], [35.930925, -84.032095], [27.069035, -82.095412], [44.02521, -92.488199], [33.69891, -84.26978000000003], [32.555916, -80.68051899999998], [34.142765999999995, -118.226346], [45.933483, -95.579338], [35.253206, -92.933188], [37.588849, -121.870741], [42.402001, -82.97081999999997], [38.592451, -121.406648], [41.68274, -93.0068], [40.12210200000001, -74.97685], [28.372863, -80.700428], [36.217047, -86.775177], [30.44552, -91.03422], [38.99106, -76.83246], [35.93405999999999, -119.644668], [34.000038, -118.280995], [35.827006, -84.281798], [41.782896, -124.168428], [33.885737, -79.44968], [34.4903, -118.165222], [33.193969, -81.405532], [37.693477, -122.062361], [26.546333, -81.830453], [33.843721, -117.535107], [25.928209, -80.198915], [34.167864, -118.61406399999998], [34.038605, -118.30031], [35.2177, -80.8737], [43.18044, -77.61363], [32.877176, -96.685727], [34.042952, -118.272653], [28.9607, -82.12415], [42.88657, -78.88618000000002], [25.689146, -80.38287199999998], [34.261003, -118.472324], [39.835347, -75.442003], [40.43586, -111.89549], [39.600224, -119.837878], [32.815782, -117.158856], [38.337139, -122.016491], [38.52901, -121.33496], [27.784716, -82.661397], [28.638606, -81.415621], [35.77682700000001, -109.655249], [38.818441, -121.18687], [30.330074, -82.96310600000002], [38.55521, -121.40331], [25.963003, -80.157545], [33.460102, -80.755553], [38.48168, -121.396825], [34.359111, -117.43618], [28.452192, -81.400388], [38.396755, -78.91062099999998], [25.813438, -80.31345999999998], [33.748054, -117.843805], [28.376042, -80.702524], [32.779749, -117.10158], [41.669944, -87.759466], [36.247521, -121.781848], [34.973956, -112.405318], [33.5847, -86.70203000000002], [43.9767, -117.00566], [37.789223, -122.200599], [33.030032, -96.992646], [40.167311, -74.721], [40.698225, -73.962439], [33.936809999999994, -118.04167], [39.92639000000001, -75.11613], [29.105898, -82.072802], [35.20167199999999, -80.78255300000002], [34.281495, -118.713895], [34.131013, -117.206751], [41.382672, -122.413778], [33.886309999999995, -84.26677], [40.085813, -75.40225], [44.259401, -121.179399], [39.198907, -76.700502], [38.251013, -121.510324], [36.064134, -79.689213], [41.766239, -87.62553], [40.854145, -73.963472], [25.824387, -80.33375500000002], [45.080419, -94.236355], [34.818698, -82.2768], [44.39783900000001, -123.93276000000002], [44.038621, -121.30802], [41.775738, -122.582198], [37.560611, -122.302751], [38.660595, -121.329383], [34.155059, -118.269733], [34.876792, -92.116584], [29.688964, -95.280639], [37.849239, -122.489409], [39.870877, -75.320385], [43.761527, -118.055124], [35.781494, -83.109115], [41.253587, -73.07258900000002], [42.892533, -122.454405], [29.495383, -98.400732], [33.635932000000004, -117.339755], [34.07077, -117.7631], [35.134502000000005, -119.459841], [37.769662, -122.41565], [40.731779, -74.123822], [41.517919, -73.98135699999997], [34.754098, -82.24638], [30.31916, -81.77058000000002], [45.53601, -122.68532], [40.001002, -75.818591], [34.025177, -117.114751], [42.48892, -83.08129], [38.476147, -121.424954], [38.422227, -121.30881200000002], [27.96916, -82.45359], [25.946293, -80.159133], [27.462493, -82.586329], [39.99249, -111.76394], [36.6349, -114.60122], [34.43547, -118.59346], [45.921509, -95.561357], [25.954534, -80.245846], [39.93292, -83.49184], [28.387404, -81.42515], [25.807519, -80.258842], [34.146347, -118.248845], [35.836937, -78.659201], [37.974469, -122.319339], [35.12781, -89.94524], [38.060106, -77.504028], [32.79575, -96.6922], [42.9298, -85.68154], [30.41788, -91.089515], [37.52053400000001, -77.488475], [38.843708, -94.529382], [41.87353, -87.91757], [37.334253, -77.336516], [37.70134, -121.8448], [34.820453, -81.10390600000002], [30.498922, -87.270252], [45.20005, -93.56496], [44.952406, -93.182627], [25.809, -80.26025], [38.011202, -122.273038], [41.646054, -72.674127], [34.088383, -117.30202], [38.667322, -120.669502], [44.267601, -122.044244], [46.044701, -112.450893], [37.785512, -122.391418], [33.621956, -117.322008], [34.018403, -117.098497], [38.94517000000001, -76.86321600000002], [30.267473, -97.74447], [40.895608, -74.257138], [44.799939, -117.812544], [39.029975, -76.956175], [45.36434000000001, -122.759588], [41.41138, -112.05039], [36.18235, -86.77507], [42.139023, -73.949242], [40.769571, -74.025692], [28.537185, -81.475727], [32.670161, -96.822675], [29.448952, -98.405216], [38.000379, -122.607421], [38.84476, -77.43760999999998], [48.16623, -114.289538], [37.679489, -97.24397], [40.1115, -75.123365], [33.176678, -87.524721], [35.61342, -82.63255500000002], [40.074831, -75.159563], [35.95698, -79.608765], [39.802907, -75.348545], [34.001414000000004, -117.375888], [30.456089, -86.65015799999998], [42.77823, -121.83669], [33.474940000000004, -112.11297], [35.791269, -78.783248], [44.88521, -93.3501], [43.08282, -73.52772], [45.04368, -93.45252], [34.20178, -117.448815], [26.737786, -81.437765], [38.89975, -77.26746], [40.441371, -122.279218], [25.899528, -80.184815], [30.662785, -87.859332], [40.79019, -73.36849000000002], [28.482795, -81.458977], [41.089217, -112.029791], [35.144955, -80.92763000000002], [38.558882, -121.379384], [33.10655, -117.31277], [39.785495, -105.08381], [25.760891, -80.393987], [30.572975, -87.291836], [35.332703, -118.820455], [37.372228, -120.678244], [33.150058, -117.198304], [26.37427000000001, -80.11654], [41.02126, -74.21361999999998], [34.027588, -118.452593], [35.452755, -85.934092], [38.759914, -77.736671], [41.83501, -88.00596999999998], [36.339479, -117.423623], [29.78273, -95.45792], [42.45017, -82.91709], [25.95802, -80.17108], [31.98235, -86.53113], [41.56241, -87.307057], [32.717545, -117.113291], [25.969338, -80.165531], [25.700337, -80.40004499999998], [28.206115000000004, -82.665205], [30.388287, -97.647937], [34.00156, -117.83701299999998], [39.80706, -75.182071], [25.781491, -80.320961], [25.706201, -80.158291], [40.421563, -78.43987800000002], [35.109715, -118.396667], [38.652228, -76.981951], [33.62683, -84.41891], [42.21729000000001, -121.74728], [38.01875, -121.93735], [33.352658, -117.11283600000002], [32.59342, -96.941868], [33.75604000000001, -118.01797], [34.15489, -118.31088], [33.793986, -79.018648], [47.48350900000001, -122.270361], [26.315662, -81.745716], [40.74919000000001, -74.17785], [30.410936, -86.763808], [34.151977, -118.149558], [34.15316, -118.3583], [45.073417, -93.316465], [33.646587, -78.983974], [40.232885, -75.6353], [33.842719, -117.954811], [25.597978, -80.372596], [37.56977, -77.40092], [38.499405, -122.825832], [25.968747, -80.165592], [29.056746, -82.280077], [34.983883, -81.093819], [34.034303, -118.384841], [33.4951, -112.11344], [33.988418, -117.907319], [41.099552, -112.000203], [40.6903, -73.57137], [33.686599, -117.850848], [34.065833000000005, -117.494244], [44.97099, -93.46583], [40.72412, -74.22946], [34.083533, -117.544627], [40.84508, -73.9192], [30.434312, -91.057491], [26.248569, -80.13646899999998], [33.008133, -117.080301], [25.766552, -80.263465], [32.365035, -86.171508], [38.699252, -121.318184], [25.771, -80.336548], [37.81269, -122.2507], [36.155906, -86.777301], [37.034171, -81.12428], [37.73203, -122.43219], [42.45431, -83.09551], [32.835155, -96.752866], [33.866178000000005, -118.197171], [36.063177, -79.384214], [32.907222999999995, -96.736255], [37.69813, -121.94064], [25.43424, -80.474349], [38.00449, -122.03885], [42.23491, -121.52122], [43.121477, -83.763273], [38.027111, -121.330727], [34.918056, -118.923889], [41.29206, -72.920776], [36.956804, -121.531476], [34.594443, -118.134447], [28.756275, -81.312827], [40.835372, -73.881958], [42.739402, -83.384867], [38.593792, -121.415247], [38.7142, -90.685691], [33.783388, -117.491131], [35.71779, -78.58378], [33.887527, -118.356776], [41.87019, -87.89125], [25.73417, -80.302918], [47.240899, -122.348932], [33.716027000000004, -117.96698], [27.1554, -80.30062], [39.106765, -94.583537], [33.801149, -117.191221], [36.61874, -119.45771], [43.16791, -90.70607], [35.163209, -80.88681899999997], [40.799585, -78.426278], [39.114561, -121.634749], [37.06595, -122.07966299999998], [30.150613, -97.584012], [40.61153, -74.153047], [41.23819, -74.40465], [28.486787, -81.42019300000003], [42.34267, -87.92062], [33.66585, -78.97006], [38.608788, -121.401421], [27.26906, -82.46452], [34.121438, -117.881375], [42.485764, -83.208922], [34.171259, -118.515865], [33.53765300000001, -112.255175], [40.663209, -74.28671], [30.434674, -87.27359], [25.749454, -80.335813], [38.129261, -79.03728100000002], [42.946661, -123.294957], [34.13548, -117.58477], [35.259156, -118.91975], [34.049482, -118.090547], [32.782893, -96.769212], [34.396484, -82.64550799999998], [42.644323, -83.211618], [33.392229, -112.109822], [34.18238, -118.31484], [33.928152000000004, -118.274828], [37.683996, -77.080712], [33.559628000000004, -80.22063399999998], [37.778081, -122.401165], [40.847664, -111.907178], [27.23663, -82.49757], [43.29302, -124.21948], [36.132511, -86.727124], [41.28378, -72.93721], [34.869586, -82.230745], [38.945337, -76.858839], [28.543652, -81.36848499999998], [37.769998, -122.403788], [41.645041, -124.11342], [33.827734, -117.167856], [45.095961, -93.290627], [38.678993, -121.334915], [46.342574, -94.684284], [34.134403000000006, -117.354315], [33.629912, -84.400695], [40.68983400000001, -73.562775], [45.690861, -94.86955], [34.73285300000001, -118.290128], [37.85254000000001, -122.29986], [38.99526, -94.69625], [25.940567, -80.190559], [43.014557, -73.798156], [28.486838, -81.418423], [44.766574, -91.428695], [33.139486, -117.14443500000002], [33.933516, -117.55621], [28.612123, -81.73236999999997], [25.62653, -80.382217], [35.131653, -80.73522700000002], [39.77848, -104.90063], [42.849615, -78.79056899999998], [34.266689, -118.445726], [37.63273, -122.40302], [32.85596, -96.64886], [37.42518, -121.91763], [33.130968, -117.122109], [39.17225, -77.2451], [34.170753000000005, -118.387007], [36.759856, -119.77532], [41.82715, -72.66575999999998], [32.754021, -96.809432], [38.613024, -121.40148], [38.916263, -123.702329], [47.35813, -122.12], [30.388716, -91.170754], [33.938655, -117.291158], [40.11222, -83.02821], [40.71672, -74.15566], [27.749065, -82.379283], [35.383045, -119.04458], [33.60755, -112.0651], [40.158319, -74.718272], [33.122166, -117.103061], [38.838633, -78.563328], [38.455313, -81.500626], [30.034893, -89.981149], [36.623329, -119.68066], [39.615185, -119.86314099999998], [37.56262, -113.18887], [45.70522, -121.58893], [30.599689, -87.160455], [34.019619, -118.153621], [27.84613, -82.38154], [47.3972, -122.32404], [28.015845, -82.78791899999997], [34.971126, -81.900756], [34.119671000000004, -117.814141], [38.816839, -76.916474], [33.665243, -117.809225], [33.755990999999995, -118.01846100000002], [26.063478, -80.215418], [48.735362, -122.467292], [43.156195, -77.62138], [44.719194, -93.282111], [28.452926, -80.893117], [33.489047, -111.887953], [44.958487, -123.03274], [35.393833, -120.835373], [33.283134000000004, -111.783818], [34.524097, -117.330316], [37.600385, -122.383948], [33.85803, -117.409667], [38.162115, -79.013382], [45.52359000000001, -122.68644], [45.61275, -122.00333], [33.82476, -118.287474], [25.570312, -80.372287], [32.77835, -117.11681000000002], [42.991741, -83.64523299999998], [30.29576500000001, -84.158401], [37.33628, -120.537729], [25.960184, -80.294731], [40.70241, -74.24714], [36.980317, -121.557609], [27.872867, -82.728884], [41.303111, -72.914232], [25.796986, -80.335534], [41.510197, -94.200299], [38.140041, -121.624003], [39.778414, -86.141277], [45.44504000000001, -122.73677], [34.103761, -117.983497], [25.949522, -80.120855], [41.564551, -109.551383], [33.39516, -111.96738], [35.242824, -118.589321], [31.93847, -83.74826], [36.12198400000001, -86.754494], [38.37296, -121.35842], [33.43688, -112.13464], [40.003589, -75.07735600000002], [33.884409999999995, -117.52261], [34.033049, -118.169481], [45.370861, -122.709313], [29.738948, -95.476801], [41.092855, -76.884762], [33.182348, -117.300413], [28.344509, -81.372102], [40.66454, -73.8454], [35.275951, -80.80926], [33.855432, -117.787009], [37.789637, -122.255897], [36.727953, -119.934375], [39.73163, -84.20563], [25.729068, -80.415748], [34.044363, -117.988529], [34.644237, -85.94255799999998], [44.09777, -123.16096], [40.781833, -111.8997], [32.768637, -117.129669], [33.737455, -117.98831], [37.625002, -120.922932], [35.832713, -86.41904699999998], [39.962071, -76.77672], [38.85159, -76.95911], [41.790832, -124.157875], [42.478176, -83.090018], [33.846721, -118.229017], [28.84091500000001, -82.29208], [29.39987, -82.207418], [37.595846, -122.059023], [34.098089, -80.920107], [45.04216, -122.79331], [38.48222, -122.73677], [36.93612, -121.74388], [25.684325, -80.41642900000002], [41.749747, -72.715089], [35.996779, -83.953882], [42.841283, -73.37340400000002], [25.447788, -80.476232], [43.191128000000006, -77.608655], [43.050815, -83.67355500000002], [38.574327, -121.404272], [37.460392, -119.920327], [29.759415, -95.212911], [33.71157, -84.2174], [37.99562, -121.78071], [34.067741, -118.022074], [39.836972, -77.231107], [30.10545, -95.43545], [25.90354, -80.21027], [36.138312, -119.134104], [38.26994000000001, -85.57779000000002], [40.92132, -122.401667], [32.94679, -117.24326], [28.11359, -81.939898], [38.803522, -76.99768], [38.92967700000001, -122.741459], [29.70314, -95.29745], [38.854761, -78.128299], [29.668868, -95.382367], [36.08885, -96.02826], [35.390426, -118.985036], [37.93027, -121.253885], [43.368235, -124.295073], [39.80885900000001, -84.188813], [29.690853000000004, -95.049274], [41.7166, -72.649251], [36.44725, -87.09439], [34.00643400000001, -117.980573], [32.906509, -96.89966], [36.968545, -76.29881800000003], [37.883958, -122.053574], [34.416999, -81.814999], [40.126032, -75.030771], [36.841451, -121.487034], [41.549617, -72.81745699999998], [39.643842, -106.036438], [37.839916, -120.22551599999998], [37.045993, -79.87831700000002], [25.898622, -80.16103299999997], [34.606036, -90.206622], [40.76523, -73.83973], [28.249765000000004, -82.698691], [29.688875, -95.542144], [25.769749, -80.331322], [34.148029, -118.078619], [33.81225, -118.28748], [28.35976, -81.36501700000002], [25.686576, -80.380597], [44.05031, -121.30694], [33.772003999999995, -84.54707900000002], [25.696455, -80.421623], [45.066277, -93.236772], [38.236204, -121.050973], [35.21078, -80.82460999999998], [38.470076, -77.404035], [30.179567, -81.62800899999998], [33.928509000000005, -118.291595], [34.110516, -118.334399], [41.110291, -73.401526], [36.13343, -95.89962], [39.958517, -76.723457], [35.167229, -85.06578499999998], [47.567766, -122.296832], [45.54838, -122.678628], [34.040534, -118.184628], [33.411577, -112.045929], [40.097348, -75.074308], [38.75868, -81.68926], [43.61836, -116.245171], [37.39131, -121.07002], [33.740715, -117.83343], [42.437599, -122.757507], [45.79444, -95.88199], [33.974652, -118.283783], [34.290397, -118.468478], [40.52674, -111.881721], [36.882084000000006, -121.41541200000002], [41.98259, -87.87444], [34.087155, -117.677911], [35.61604000000001, -119.689791], [37.660392, -122.104053], [32.235931, -110.977172], [39.885439, -104.98767], [37.471907, -122.2042], [28.580034, -81.476099], [30.471091, -87.245186], [34.146754, -118.370234], [36.078744, -86.961845], [39.463119, -77.118592], [44.71858, -121.22162], [27.92777, -82.800669], [33.974728000000006, -118.236829], [39.308423, -120.717918], [32.918233, -117.115883], [45.5015, -122.67791], [36.17857, -94.18299], [40.73938, -113.85121399999998], [40.84774, -74.42761], [32.779632, -117.097316], [36.94559, -76.266448], [34.630167, -118.322837], [38.595968, -121.398174], [40.609492, -112.033478], [26.0535, -80.16234], [25.651133, -80.36721800000002], [45.345178, -93.889535], [40.60948, -74.15035999999998], [40.9141, -83.836766], [34.050568, -118.214081], [42.928186, -78.76616800000002], [29.986742, -90.116053], [36.8235, -76.432968], [32.936265, -80.038962], [34.16534, -118.46973], [29.449635, -98.515552], [34.824109, -82.256343], [39.53388, -104.7934], [25.76339, -80.336261], [32.368120000000005, -86.13481], [38.64454, -121.350498], [40.717333, -73.831211], [34.034303, -118.384841], [43.953698, -70.554434], [33.815045, -81.102129], [45.03189, -92.78818], [40.889693, -73.80119499999998], [41.596531, -90.571416], [40.715955, -73.81340300000002], [25.768653, -80.19996], [39.092791, -94.640441], [37.53843, -77.43892], [37.658645, -122.405389], [36.518129, -86.1267], [37.805168, -79.389318], [34.276790000000005, -118.452996], [44.956468, -121.462393], [37.275329, -81.123561], [25.78834, -80.20831], [25.68608900000001, -80.395911], [34.11773, -117.844666], [41.396196, -122.380345], [29.833202000000004, -95.30846], [40.449404, -111.478121], [37.98331, -122.06745], [40.70052, -73.50350999999998], [46.936925, -122.412926], [25.7822, -80.32365], [34.415208, -119.536957], [47.395209, -122.297162], [25.683923, -80.416415], [29.758396, -95.283635], [32.76254, -117.16354], [25.925121, -80.30821999999998], [34.991890000000005, -117.54144], [37.61635, -122.398523], [36.959816, -120.063204], [44.653404, -123.754302], [37.340797, -77.991788], [41.652632, -93.570489], [34.09967, -80.918324], [36.846701, -121.366136], [40.73664, -111.9492], [44.190875, -123.274843], [33.77913, -117.88798], [43.0559, -76.167], [39.02967, -94.267941], [43.504695, -116.14086299999998], [40.488513, -78.433238], [35.123078, -85.23949300000002], [28.445563, -81.364985], [39.210815, -94.639071], [30.409367, -97.682319], [47.38268, -94.6751], [34.050206, -117.303683], [43.529984000000006, -119.302095], [38.77238, -90.30367], [43.583011, -116.393743], [40.87889600000001, -74.065108], [45.81298, -122.853453], [35.8341, -78.76904], [27.97167, -82.54698], [39.396961, -76.548174], [30.483021, -83.686743], [38.991618, -76.521672], [43.611953, -116.205252], [39.645978, -75.779799], [39.75343400000001, -86.150713], [33.897771, -118.054242], [40.638732, -74.024123], [32.07011, -81.24793000000003], [34.041212, -118.063405], [39.995262, -84.001599], [35.135659999999994, -85.23934], [27.938571000000003, -82.329668], [35.29095, -118.749064], [40.85024, -73.94506], [35.194243, -80.87285], [43.951781, -92.359195], [34.191375, -118.32727], [38.08052, -122.54452], [25.826477, -80.246994], [40.851974, -73.921102], [44.79863, -93.39875], [39.752478, -121.841866], [37.82593, -122.27573], [36.27903, -115.28769], [34.036971, -118.43854], [34.029168, -118.005299], [42.86065, -85.82709], [34.140572, -118.710175], [40.82309, -73.88274], [47.025832, -122.914946], [32.662067, -96.881705], [43.183846, -77.59586999999998], [33.040523, -80.139003], [33.91064, -117.282359], [39.940801, -76.621421], [34.846990000000005, -82.44716], [44.9049, -91.86153], [29.749636, -95.371746], [32.443281, -80.995448], [44.77189, -93.28836], [38.896676, -77.201088], [40.572589, -74.250674], [32.701951, -96.614756], [41.85018, -96.71065], [39.875767, -83.051225], [40.989432, -73.674651], [37.326854, -122.386504], [37.336134, -122.058913], [25.564802, -80.506668], [28.304189, -81.350752], [26.451444, -81.95230699999998], [27.895477000000003, -82.795461], [25.6799, -80.316849], [38.43675, -112.63378], [34.034375, -118.349962], [41.584635, -87.680736], [34.273542, -118.56964], [30.639974, -87.087991], [34.136356, -117.462526], [37.931126, -119.164439], [25.718204, -80.306444], [39.78241, -105.00645], [41.967276, -121.911614], [25.866658, -80.310223], [25.674398, -80.335204], [36.76903, -76.22748], [25.899633, -80.18226999999997], [44.992918, -93.400712], [39.02163400000001, -122.499387], [38.02138, -84.553223], [34.329737, -117.397976], [34.020845, -81.077489], [40.83025, -73.93219], [46.23107, -95.32269], [34.773606, -118.170801], [35.113753, -80.966911], [36.046311, -86.676956], [34.152693, -118.103635], [39.87029, -104.98748], [34.965502, -85.454095], [39.43432, -76.5969], [33.522078, -112.116916], [39.05296, -94.4971], [35.893374, -84.697905], [35.112092, -85.096503], [36.916613, -121.821589], [25.829162, -80.249177], [40.840227, -73.917694], [39.918114, -77.974204], [28.552455, -81.376862], [28.143755, -81.468836], [33.90118, -79.06288], [36.142819, -86.744363], [44.890239, -93.322192], [25.686047, -80.397987], [44.86237, -93.22], [34.10302, -117.81976], [29.231221, -82.26185699999998], [39.093003, -122.79883999999998], [41.176501, -73.17174200000002], [30.32107, -81.69324], [28.535088, -81.397261], [37.547932, -120.905349], [41.576928, -87.525263], [37.99478, -122.291239], [44.954844, -93.07821], [45.44312, -94.56294], [39.964651, -76.747201], [30.255274, -97.716347], [38.880997, -77.004568], [44.951632, -93.13349], [32.327641, -95.341277], [33.750761, -84.381362], [42.607644, -83.969605], [39.406996, -76.418931], [27.3882, -82.46066400000002], [33.866475, -118.050101], [32.802698, -96.714924], [32.35575, -111.09316], [32.645863, -96.823335], [33.82116, -117.920953], [34.999340000000004, -120.435959], [34.12438, -117.510636], [40.796898, -73.472037], [25.944226, -80.121195], [45.51969, -122.80935], [41.56215, -72.737205], [25.64397300000001, -80.332115], [29.9442, -90.031498], [25.714094, -80.382508], [43.673329, -124.177681], [47.631113, -114.114168], [34.110525, -118.481798], [33.856707, -81.526071], [30.423564, -91.074994], [32.31677, -90.15834], [30.437554, -91.084995], [35.883632, -78.448309], [37.96906, -122.05862], [45.657954, -94.953289], [43.48381, -73.75403], [31.601275, -84.847235], [29.233186, -82.943247], [29.95745, -90.09395], [39.076988, -121.561352], [38.656124, -121.328131], [40.102849, -75.413001], [41.160761, -74.184783], [45.31855, -118.05952], [33.495232, -81.392887], [25.627626, -80.422882], [41.7698, -72.675561], [44.188659, -93.94928], [41.377869, -72.90552], [40.777266, -73.942637], [33.46209, -112.11829], [44.91338, -93.50399], [45.05061, -117.93902], [30.01387, -90.01309], [27.808673, -82.75375600000002], [44.938118, -123.061453], [41.324375, -72.882839], [31.30208, -92.48018], [25.733229, -80.33374], [34.131871999999994, -80.875941], [35.30384, -80.84928000000002], [35.102702, -80.988517], [29.96912, -90.10652], [32.957755, -80.068359], [35.93092100000001, -84.032108], [33.475887, -117.081417], [37.72224, -122.13572], [37.432868, -120.779282], [36.841845, -76.223075], [32.933791, -86.660156], [38.23639, -122.1008], [36.84321, -80.857919], [43.00243, -85.67600999999998], [38.94274, -94.776504], [34.154167, -79.777691], [40.202079, -74.634815], [43.49432, -119.02025], [25.76087, -80.432925], [32.86424, -96.682532], [44.963012, -93.213691], [38.98729, -94.703266], [35.869942, -84.379731], [43.443707, -124.221907], [30.566488, -98.288113], [32.79951, -97.22504], [36.677331, -119.663853], [28.566581, -81.286015], [25.726054, -80.41547299999998], [44.96705, -93.22015], [29.391032, -82.472844], [38.65456, -90.56184], [37.529791, -77.373065], [41.064137, -75.707355], [32.221509999999995, -110.871957], [30.264678000000004, -97.745532], [38.649043, -76.872785], [37.341463, -77.405461], [30.016836, -90.113763], [35.739901, -78.25663], [40.096744, -75.29737], [28.595921, -81.307105], [38.34102100000001, -77.07301700000002], [30.420995, -91.140545], [33.400898, -86.787359], [38.984481, -76.581176], [36.106642, -95.941002], [45.651444, -110.942956], [27.96543, -82.43264], [30.755409000000004, -85.832376], [34.463746, -118.41141299999998], [41.998339, -93.571146], [34.1949, -82.180716], [31.77991500000001, -106.466729], [37.712095, -122.162531], [44.78225, -93.28836], [35.85617, -78.64124], [37.33313, -121.93801], [40.012765, -74.29352], [25.677153, -80.388214], [34.359365000000004, -118.553949], [39.02653, -77.39459000000002], [40.301838, -109.859969], [25.783393, -80.33675], [30.307890000000004, -81.64704], [43.164001, -77.55161700000002], [45.804249, -95.38785], [44.80209, -122.75318], [33.456598, -111.88953899999998], [44.879715, -93.141026], [38.481622, -121.422277], [41.80932, -87.80206], [30.507157, -87.161852], [42.965501, -83.804987], [33.85235, -117.88198], [39.18193, -84.48465], [33.930208, -118.37528600000002], [33.672999, -111.990605], [40.635077, -74.235449], [35.75371, -78.64465], [33.870638, -118.005809], [44.853099, -93.298023], [36.815432, -76.347802], [32.867232, -117.192651], [40.02312, -75.034837], [34.116419, -81.192674], [40.57400300000001, -111.89999], [30.430442, -97.659548], [39.97213, -111.7762], [40.640054, -74.207075], [34.525763, -118.574464], [41.59173300000001, -71.957004], [28.551790000000004, -81.50491], [41.84094, -71.41111], [30.448856, -97.656113], [34.13669, -117.55389], [25.92478, -80.154122], [35.3569, -118.91412], [39.025088, -76.468012], [45.55981, -122.17327], [35.55272700000001, -78.579083], [25.700047, -80.413232], [41.52312, -83.45606], [30.375641, -84.270211], [41.24427100000001, -111.978158], [39.841346, -79.044376], [35.01171, -81.9573], [39.778411, -86.141286], [38.869847, -77.046348], [25.928608, -80.20930200000002], [43.0758, -124.415211], [36.23873, -86.77829], [45.05622, -93.13124], [45.465341, -117.960129], [37.248173, -121.831288], [35.20100700000001, -80.76240200000002], [34.087194000000004, -117.664329], [35.22781, -80.86148], [32.366655, -86.300037], [26.522195, -81.869685], [35.366181, -120.834792], [40.19814, -74.75278], [44.9632, -92.9585], [25.964762, -80.172462], [37.662581, -122.401079], [32.77409, -96.79329], [34.036453, -118.033914], [33.974088, -118.080122], [40.054428, -122.10072], [41.14168, -73.28318], [36.26411, -86.649589], [41.90062, -88.7167], [33.890528, -80.061149], [42.354223, -121.984814], [33.459309999999995, -111.99527], [27.81695, -82.383306], [41.12135, -73.32857], [25.642714, -80.334553], [35.20798900000001, -80.757755], [44.05997, -121.30253], [38.792758, -77.13718], [36.578373, -85.136748], [36.53786, -87.582337], [36.841493, -76.196439], [43.304285, -122.524641], [25.899094, -80.235644], [34.034202, -117.324648], [34.00843, -117.960335], [39.011888, -77.458735], [44.990812, -93.08913], [40.13502, -76.174109], [39.926, -76.19585], [39.974393, -83.09739499999998], [34.570436, -82.709935], [33.659094, -114.244476], [41.03008, -73.74167], [29.71413, -95.381738], [37.783222, -121.210251], [33.424816, -81.791617], [38.309233, -77.64070500000003], [42.47309, -73.806313], [32.449760999999995, -93.865524], [37.891201, -120.488307], [28.577922, -81.443188], [40.507918, -111.89132], [28.378064, -81.376692], [34.136540999999994, -117.526989], [29.70669, -95.27202], [34.002414, -117.379199], [41.2433, -73.10937], [47.72951, -122.32416], [42.290979, -79.679964], [28.454246, -81.399773], [35.024570000000004, -85.29803000000003], [36.84553, -76.257494], [36.448321, -82.53211800000003], [38.443136, -121.862342], [42.370781, -87.89820300000002], [41.641031, -72.733462], [41.8741, -87.64598000000002], [41.120978, -73.328064], [37.925137, -122.347667], [37.898492, -122.639783], [47.380535, -94.863042], [35.887501, -78.745644], [29.950048, -82.559395], [38.98831, -76.5781], [38.442428, -122.721488], [30.460053, -97.979213], [35.19205200000001, -84.891539], [41.0007, -93.19363], [26.69201, -80.1117], [28.328449, -82.204134], [40.38587, -75.583605], [34.099118, -117.510593], [34.022431, -118.426459], [40.99453, -76.477361], [43.130957, -77.64978], [37.634487, -122.086611], [34.026336, -117.550071], [38.657775, -78.669708], [47.08575, -122.65431], [47.479056, -92.893896], [39.418074, -119.7561], [28.472283, -81.425492], [45.0404, -93.3344], [39.111737, -104.77116], [35.276643, -80.809071], [38.269949, -122.044471], [38.61778, -90.19109], [29.682952, -95.569691], [34.142364, -118.471573], [34.068544, -117.963688], [47.827865, -122.209037], [37.138233, -93.309881], [25.689146, -80.38287199999998], [34.154523, -118.395776], [34.121764, -117.30228], [29.94022600000001, -90.101767], [33.10934, -84.00222], [43.04457, -87.92629000000002], [27.447463, -82.52918299999997], [27.960588, -82.745296], [37.516041, -121.940703], [34.0389, -118.43988], [45.530459, -122.635556], [41.40304, -77.04491999999998], [30.650309000000004, -91.159477], [34.13537, -117.9875], [40.682948, -73.688511], [45.130806, -93.488498], [35.55337700000001, -120.708776], [33.886576, -118.033438], [44.975291, -93.46036], [37.85097800000001, -122.299583], [44.472535, -119.033902], [34.317845, -118.485842], [28.554456, -81.413973], [32.81172, -117.15571], [33.773671, -84.39004], [34.071698, -118.103818], [34.295179, -88.702832], [30.26173, -81.60656], [25.970295, -80.165723], [41.976944, -76.946814], [37.077883, -121.653307], [47.38629, -122.29004], [45.594635, -118.523166], [45.452001, -122.725179], [43.664736, -116.354555], [25.684676, -80.387136], [39.832714, -75.08979599999998], [38.54926, -121.47404], [42.20224, -87.83431], [38.60463, -121.27586], [35.102816, -81.62686], [30.245616, -97.756971], [32.82002, -96.870168], [32.842092, -117.12032], [26.202575, -80.13255500000002], [40.379838, -123.030561], [40.67794, -74.27871], [36.175663, -94.201424], [39.016964, -123.192231], [43.324144, -124.206358], [40.25336, -76.03522], [34.095536, -118.244025], [28.493745, -81.396763], [29.025427, -82.157386], [44.78621, -93.21958], [33.875469, -118.063833], [25.899818, -80.308272], [32.84102, -117.120341], [32.773396000000005, -96.796884], [42.59395, -71.31707], [38.015881, -122.188879], [25.944243, -80.24556199999998], [25.826215, -80.333805], [30.389014000000003, -86.32330300000002], [25.515034, -80.422684], [32.721355, -117.228951], [43.599382, -116.508926], [37.107708, -122.111518], [37.58563, -77.423845], [39.263018, -123.221404], [32.655154, -117.106076], [33.987742, -117.714053], [33.49511, -111.90878], [40.860539, -73.82887], [35.995942, -86.690787], [33.796225, -117.895312], [42.855616, -84.868386], [37.70079000000001, -121.80915], [25.94399, -80.187011], [25.702121, -80.337124], [30.471011, -91.1272], [30.621804, -84.573881], [32.910965999999995, -96.883151], [36.064392, -79.43423100000003], [47.62213, -92.86627], [34.029058, -118.218791], [41.746534, -87.848557], [38.61831, -109.63598], [36.532124, -119.98976100000002], [33.873559, -118.25243], [35.642031, -106.891007], [32.351403999999995, -95.343856], [37.08364, -121.10136], [43.144823, -77.71731700000002], [32.71184, -117.10091], [36.07539000000001, -95.88638], [32.297326, -90.248104], [44.943083, -93.077062], [40.28593400000001, -122.413271], [32.662219, -96.841694], [35.601099, -77.561942], [45.61442, -122.67729], [34.06305, -117.805], [33.219012, -81.17495500000003], [39.009479, -93.998755], [33.672740999999995, -112.008844], [39.115703, -77.82673299999998], [34.197883000000004, -118.403094], [40.099121, -76.258088], [44.104195, -116.961415], [40.176634, -75.460269], [41.574011, -87.460498], [30.392237, -91.157654], [25.571738, -80.376198], [30.253802, -97.906182], [42.930245, -83.724211], [39.09127, -94.88167], [28.60378900000001, -81.30995], [34.946988, -82.27026], [36.049084, -86.652666], [39.009606, -94.356477], [32.76634, -96.738633], [29.736812, -95.41069], [40.593549, -111.902393], [30.05706, -89.93131600000002], [45.28177, -121.71377], [38.76631, -104.777185], [35.35276, -119.033234], [25.808224, -80.313148], [44.61355800000001, -93.768085], [32.697086, -117.120723], [28.822255, -81.00161], [37.095971, -120.215093], [28.02786, -82.1473], [34.291655, -118.468017], [28.598405, -81.41719], [25.71404200000001, -80.43021], [46.736982, -92.162425], [33.928581, -118.28914], [39.16016, -77.63839200000002], [33.75692, -118.290706], [44.86366, -93.43602], [38.561872, -121.487107], [28.546502, -81.413591], [34.119890000000005, -117.81485], [44.147205, -85.319369], [35.935285, -119.107574], [40.516706, -78.393675], [37.03484, -76.35618000000002], [32.953578, -117.244244], [39.99045, -83.02593], [33.7482, -117.84307], [41.316821, -73.085099], [34.179378, -118.466162], [44.955807, -93.090881], [28.546155, -81.425151], [44.978037, -93.287457], [39.3137, -120.44878], [42.161053, -79.875186], [33.759826000000004, -117.831194], [27.556145, -81.686712], [35.131867, -76.90678199999998], [32.072821000000005, -81.23236999999997], [36.809917, -76.352738], [34.037178999999995, -118.313344], [38.793636, -77.05236500000002], [33.873759, -117.924333], [32.250611, -110.91028], [38.818441, -121.18687], [34.01065, -118.2811], [25.700683, -80.379687], [29.707306, -95.399043], [35.55251, -97.56644], [34.24973, -117.442178], [34.06434, -118.2501], [34.426527, -117.450979], [41.040791, -73.578583], [42.447642, -93.380624], [36.983283, -119.641017], [40.07883, -74.74996999999998], [34.130271, -118.073265], [26.940289, -82.018743], [40.291553, -85.368114], [37.32249, -121.89835], [27.459687, -82.170237], [45.37542, -122.75555], [34.04165, -117.15532], [33.854135, -117.79656], [25.930028, -80.188337], [30.444087, -87.239864], [32.669767, -97.212535], [37.742006, -121.525226], [36.1836, -86.61071], [35.57709000000001, -97.57801], [44.030654, -123.84153899999998], [45.693951, -118.937762], [45.37784, -94.0], [40.771916, -73.422209], [39.691172, -77.62635], [33.904509999999995, -117.45989], [39.10857, -94.680057], [38.012813, -102.613302], [30.478240000000003, -90.57475], [25.69891, -80.38217900000002], [44.95179, -93.08579], [40.754674, -77.619963], [27.441047, -82.45860400000002], [38.313542, -77.503211], [32.55265, -97.31886], [37.411749, -77.648327], [40.23858, -75.22989], [28.449687, -81.289926], [42.277985, -83.154256], [28.572471000000004, -81.45128100000002], [36.58387000000001, -121.829224], [25.68225, -80.41869], [38.831237, -111.135626], [35.453363, -94.439131], [33.641715999999995, -117.684166], [25.625382, -80.382178], [25.672132, -80.378231], [45.734227, -111.098717], [42.15422, -88.13542], [33.687519, -117.885656], [41.737883, -91.642304], [30.248003000000004, -85.495308], [45.00931, -93.12067], [28.609264000000003, -81.41595600000002], [33.776433000000004, -117.900683], [35.87980200000001, -78.572784], [36.845988, -76.190217], [42.321644, -83.73490600000002], [35.010551, -85.191992], [34.052287, -80.945619], [36.486352, -82.47278399999998], [38.234792, -122.26128], [37.781074, -122.238702], [27.93781, -82.31031999999998], [34.149159999999995, -118.37314], [39.000691, -81.65039], [43.203788, -121.779316], [34.133717, -117.383578], [38.38755, -81.767989], [39.61705, -119.273577], [38.947647, -122.687928], [38.550306, -121.473874], [40.7045, -111.98019], [36.17694, -115.1518], [27.998557, -82.562804], [33.939181, -117.221642], [37.729717, -113.05476000000002], [35.713079, -78.627144], [33.41102, -111.891462], [40.89076, -73.800549], [37.223386, -77.293494], [40.6129, -79.96822], [34.119726, -117.790185], [35.341097, -118.842684], [35.20623300000001, -80.758438], [35.51276, -78.55608000000002], [34.067798, -117.836426], [29.80546, -95.45381], [36.736897, -76.24130799999998], [35.577818, -80.555141], [34.926314, -81.224195], [37.68037, -122.09406], [33.77001, -84.40468], [45.0354, -93.08284], [47.690116, -92.289437], [33.959907, -118.086535], [33.80914, -118.28768], [39.320988, -77.728252], [43.05505, -76.0668], [34.084671, -117.488946], [30.616764, -86.961737], [44.66589000000001, -93.93631], [38.88138, -104.95024], [32.368802, -95.311052], [41.442369, -71.796488], [34.687968, -111.744099], [40.644401, -111.930746], [46.793371, -92.882777], [41.08932, -74.04083], [34.146038, -118.47078], [38.59275, -121.55186], [38.12892, -77.512718], [43.487274, -121.90866499999998], [33.897467, -84.266649], [40.211692, -76.879482], [32.91775, -117.23455], [38.916699, -76.91490300000002], [35.137170000000005, -90.092643], [38.638927, -121.383993], [35.23222, -97.48542], [37.290889, -121.80983799999998], [30.536702, -87.337907], [35.845432, -78.680284], [32.767978, -96.830395], [38.631257, -121.267646], [39.094716, -123.232856], [34.877072, -118.894907], [40.65475900000001, -111.900767], [37.376328, -118.464996], [32.818189000000004, -85.021272], [37.11869, -93.298154], [25.860252, -80.255821], [44.864591, -93.298848], [39.78277, -86.15973100000002], [25.733214, -80.334317], [36.528907, -121.919191], [33.912944, -118.134414], [35.835374, -78.669565], [42.789751, -71.49556], [32.833102000000004, -117.233079], [33.927328, -118.259495], [37.530049, -77.429898], [29.758569, -95.199543], [42.17667, -121.82979], [38.595867, -121.3923], [34.081981, -117.710276], [42.576758, -96.315886], [34.154858000000004, -118.310865], [37.411641, -120.868217], [34.067252, -117.535366], [45.895549, -122.478251], [39.26646, -104.89562], [37.788558, -122.242366], [39.294799, -76.53162900000002], [35.874578, -84.324056], [35.009533000000005, -117.87593], [37.99605, -122.06586], [35.55799099999999, -119.33194], [44.85519, -93.29819], [34.0054, -117.95972], [33.553207, -112.112336], [35.785044, -78.687221], [39.02271500000001, -76.941373], [33.876012, -81.117871], [38.014781, -78.390575], [36.983364, -120.639397], [43.210203, -77.698688], [35.978332, -78.541539], [37.58355, -122.4062], [27.698233, -82.402242], [35.413302, -80.85874100000002], [32.97547, -96.93311], [40.845061, -73.91653000000002], [33.93096, -118.291913], [33.914454, -117.286024], [39.153879, -120.889915], [29.461077000000003, -82.598145], [37.84797, -122.02766], [35.9341, -87.29276], [42.45707, -87.82522], [32.955564, -96.822091], [25.684325, -80.41642900000002], [40.16521, -111.64684], [45.009568, -93.13155], [45.114033, -121.348232], [25.78125, -80.3437], [40.89299000000001, -76.742972], [36.463914, -80.767126], [26.546486, -81.846772], [40.736942, -74.123919], [32.7653, -117.15373999999998], [34.134986, -117.593688], [35.846124, -86.668685], [40.665882, -73.993767], [28.54840200000001, -81.633347], [26.166293, -80.154026], [43.133957, -83.76396700000002], [33.923342, -118.103681], [33.797979999999995, -84.39578], [25.947208, -80.15404000000002], [34.017208000000004, -117.817284], [37.709074, -118.952309], [33.534361, -86.720484], [37.95977, -122.33069], [39.87475900000001, -75.096627], [33.425509000000005, -111.939969], [33.29183, -111.90422], [32.771485, -97.287441], [30.523702, -91.180617], [44.273904, -118.981558], [42.952841, -123.32989], [33.772031, -117.909179], [33.865559999999995, -118.33008999999998], [40.17122, -85.106138], [33.924028, -84.35794200000002], [35.30067000000001, -80.80678], [30.46088, -91.044769], [45.352532, -122.61328799999998], [35.272385, -80.793777], [32.442894, -93.737091], [38.8545, -94.52849], [36.542984, -118.047062], [34.020491, -118.194086], [35.186516, -80.731899], [39.738048, -86.042721], [44.862247, -93.252956], [39.935324, -111.146907], [41.10381, -74.02162], [43.029045, -88.142487], [43.388985, -123.350492], [45.10193, -93.45663], [33.225674, -117.325552], [36.255565, -119.869517], [27.078784, -82.359217], [34.0173, -118.17555], [42.52569, -83.75511999999998], [28.078686, -80.711809], [40.352595, -111.773328], [28.351699, -81.309608], [44.18228, -94.03112], [43.024492, -82.45579000000002], [38.36423, -77.76566], [36.792254, -119.700235], [34.24973, -117.442178], [28.389504, -82.66926099999998], [35.897473, -78.60935500000002], [40.081011, -74.938012], [37.718873, -122.073929], [25.845667, -80.250772], [34.39889, -92.823947], [47.58004, -122.18127], [34.223312, -80.057887], [25.689004, -80.365893], [33.88233, -117.58788], [42.45707, -87.82522], [39.536533, -119.80806499999998], [27.270415000000003, -82.497665], [33.99692, -117.3661], [38.983794, -77.160876], [42.4688, -82.91919], [30.453904, -91.140126], [40.19214, -111.61257], [39.895208, -75.509872], [40.08671, -75.12795], [47.28963, -93.424726], [37.988943, -122.06746499999998], [33.929396999999994, -117.421431], [40.16327, -74.71996], [28.455213, -81.23108], [30.682534000000004, -87.993782], [41.61485, -87.692068], [41.584764, -72.052813], [34.789488, -92.39017], [33.87698, -118.183248], [36.746944, -121.770692], [44.96232, -92.984765], [40.771374, -73.876357], [39.224249, -76.661342], [35.40284000000001, -97.52131], [40.905756, -74.497455], [42.410155, -83.074074], [35.81501, -86.97551], [40.37974000000001, -111.82399], [43.10651, -89.31081], [28.563927000000003, -81.37673000000002], [29.703826, -95.572373], [39.727852, -105.014513], [41.21767, -74.03329000000002], [35.399564, -82.508679], [40.21681, -76.07718], [39.852991, -85.136611], [42.96984000000001, -85.67809], [37.951888, -122.509583], [33.81421, -118.17836], [39.77537, -104.86073600000002], [41.4828, -87.98396], [34.121293, -92.670355], [25.92754, -80.215901], [30.31795, -81.679295], [33.82195, -118.20685], [34.203253000000004, -80.030348], [33.925024, -118.326561], [29.996119, -90.125988], [34.14238, -80.75073499999998], [39.43232, -77.489671], [36.598536, -119.560565], [34.060497, -118.21497], [35.804022, -78.64583], [34.013003999999995, -118.141034], [34.083685, -117.693902], [33.333842, -117.156452], [37.63243, -122.43746000000002], [30.457146, -91.117325], [27.91528, -82.787713], [33.84396, -84.53044], [37.693222, -122.052515], [25.89991400000001, -80.16134100000002], [43.59335, -116.39927], [38.787564, -77.513802], [26.120868, -80.168514], [33.44692, -111.8907], [38.935153, -77.02508], [37.701731, -121.889563], [41.658471, -93.575781], [40.8889, -73.88948], [38.946879, -76.824682], [40.822781, -73.88510500000002], [33.869015999999995, -117.757857], [25.728743, -80.430194], [33.462383, -80.523036], [40.147644, -75.39434200000002], [43.753586, -120.418802], [40.84524, -73.92778], [44.962888, -92.958143], [48.193046, -94.521502], [42.12406, -87.89695], [34.0545, -118.21003], [33.765557, -84.49484], [44.26979, -121.17155], [27.0245, -82.05123], [44.45361, -120.45669], [32.842009999999995, -79.86688000000002], [34.23905300000001, -80.560636], [36.759135, -76.27463900000002], [32.692137, -96.823079], [46.115522, -123.270511], [29.997926, -95.271024], [36.169, -86.797022], [38.578627, -121.383074], [40.35211500000001, -75.95607], [25.942293, -80.30808499999998], [25.890426, -80.163511], [42.45306, -123.30783999999998], [25.699027, -80.34114], [36.218798, -94.180923], [33.775234999999995, -84.390627], [30.519803000000003, -91.145923], [38.667603, -77.015052], [32.871093, -86.612107], [34.120962, -117.832797], [45.54055, -122.863701], [37.31649, -121.9673], [45.230406, -123.861272], [41.530893, -72.82103000000002], [40.644631, -112.288053], [39.899335, -75.175477], [40.04373, -75.0027], [29.8392, -95.56395], [35.62372, -97.56716], [33.854040000000005, -117.89352], [38.51204, -90.37253], [32.568188, -117.061911], [46.437588, -96.829837], [26.279296, -80.125], [42.759916, -73.76371999999998], [40.78253, -73.093891], [41.56816, -72.65059000000002], [36.7601, -119.83149], [42.764185, -74.109166], [25.899184, -80.191929], [30.507946, -87.22153399999998], [45.066529, -93.16963], [39.83997700000001, -75.0927], [44.031215, -123.859449], [37.64876, -122.09684], [43.053432, -83.673639], [29.676086, -95.38179], [38.793408, -90.81486], [38.001381, -121.349898], [26.182748, -80.152419], [39.06223, -94.62581], [44.254386, -93.286827], [39.899203, -75.17550200000002], [29.990819, -90.070284], [34.739576, -114.244325], [45.287227, -122.338055], [45.52299, -122.66551499999998], [42.75719, -73.76616999999997], [33.888940000000005, -118.35841], [45.07591, -93.32651], [40.845097, -73.91892299999998], [40.858618, -73.916721], [37.604779, -122.384004], [34.11853, -117.84169], [33.5532, -117.189499], [45.34616, -118.15788], [28.98945800000001, -82.59916700000002], [39.14571, -77.20376], [42.49517, -83.52322], [38.636879, -121.328094], [44.717417, -123.010201], [26.098579, -80.25014399999998], [37.670781, -122.128896], [34.030203, -118.174018], [25.941442, -80.205056], [28.436223, -81.368478], [34.085248, -117.636392], [33.898651, -87.27203100000001], [40.872587, -74.116295], [34.498607, -117.791616], [27.877005, -80.49942800000002], [42.57847, -83.87269], [39.553232, -76.158576], [41.02603, -117.592916], [25.924722, -80.302994], [27.159874, -82.472063], [43.106843, -77.50664499999998], [44.96501, -92.77247], [34.72286500000001, -82.353515], [35.304579, -80.723104], [37.011338, -120.119034], [38.773246, -90.312106], [34.134986, -117.635743], [34.140745, -118.471158], [36.071331, -86.841856], [35.225564, -80.899635], [41.44852, -81.68959], [39.325663, -75.615946], [40.897032, -74.215622], [34.265767, -118.450759], [37.40536, -122.06969], [45.375552, -122.755131], [35.197485, -80.790675], [35.306431, -80.85367], [33.982687, -117.714716], [38.861228, -77.06938199999998], [36.564234, -121.74783899999998], [46.8637, -92.32533], [25.695487, -80.317279], [29.763067, -95.455538], [46.34195, -114.149563], [42.63692, -73.85616999999998], [25.784079, -80.23513], [36.679847, -119.786073], [41.28523, -72.87539], [33.975573, -117.697101], [34.045163, -118.934858], [37.995664, -122.327223], [37.809136, -120.665383], [42.9768, -87.91545], [40.58788, -111.98781], [25.924891, -80.29691], [42.787531, -78.816422], [26.027267, -80.165988], [25.68913, -80.308185], [33.964044, -117.325059], [28.064657, -82.73877], [37.42164, -121.93436], [35.373256, -118.968805], [33.88738, -84.46471], [36.57284, -119.62542], [39.978767, -76.75753], [47.306648, -122.249641], [47.630807, -122.149761], [34.660163, -118.210054], [35.635852, -78.690737], [39.384797, -77.25931899999998], [34.23417, -118.29158], [35.192295, -80.873928], [37.201222, -76.570115], [39.30935, -76.531802], [34.492092, -118.283428], [32.76825, -117.00234], [36.33532, -119.293527], [34.27636, -118.53291000000002], [32.67653, -97.04817], [32.741178999999995, -117.116334], [40.084265, -75.296025], [35.41536, -80.67555], [35.136266, -118.426314], [41.195586, -73.281544], [40.721781, -111.54472], [40.64759, -111.90231], [38.832, -77.15222], [42.911382, -85.627707], [45.103931, -93.188201], [42.925131, -78.766376], [33.446490000000004, -112.55138], [43.619243, -116.391561], [34.871409, -82.317826], [41.061476, -111.964727], [44.073713, -123.514996], [47.40771, -122.22025], [35.20006, -80.86359], [34.18929, -117.35866], [39.026953000000006, -121.513355], [39.015365, -77.00535500000002], [33.882063, -117.546907], [35.159126, -85.26680999999998], [45.207109, -93.552672], [40.683654, -73.64409], [39.11396, -108.60008], [39.614089, -119.8578], [38.806968, -76.901584], [28.494524, -81.396764], [35.15273, -89.88328], [38.021181, -78.422158], [45.69882, -123.21701000000002], [39.35828, -123.317742], [32.88839, -117.11263], [33.68309, -112.003729], [30.513335, -81.634501], [38.866034, -76.99155400000002], [40.485144, -74.399167], [35.083978, -80.830004], [33.88402, -117.627953], [33.715506, -117.844692], [25.810617, -80.14191600000002], [38.62918300000001, -76.907948], [42.78236, -83.535007], [34.111411, -118.336218], [42.423922, -123.338095], [33.232785, -84.232383], [32.688971, -117.093809], [34.088594, -118.475404], [40.69992, -111.8491], [37.15123, -109.86703], [25.883542, -80.263377], [28.25746, -81.61616], [42.153353, -87.96175799999996], [28.468802, -81.417358], [34.064383, -117.278399], [29.779791, -95.42202], [25.945369, -80.121122], [43.63969, -95.94991], [38.121609, -84.54060799999998], [35.217672, -111.559012], [37.5502, -77.435749], [38.558961, -122.820176], [30.17383400000001, -97.820035], [45.01055, -93.08965], [40.071479, -78.01593299999998], [34.744831, -120.514858], [38.89981, -77.02190999999998], [33.780662, -117.211343], [39.435684, -112.032524], [42.37853, -83.43658], [35.165888, -80.876153], [34.110282, -117.302487], [32.83007, -83.65484000000002], [28.484407, -81.330865], [39.026403, -77.13918699999998], [45.29442, -93.8015], [25.696634, -80.301128], [45.343712, -118.107886], [41.294173, -122.32243], [28.523621, -81.39922], [37.799159, -122.277241], [39.680941, -104.82867], [35.05433, -80.81201], [26.081942, -80.166085], [34.840553, -81.971601], [35.32241, -80.73311], [36.253198, -119.100485], [34.10175, -117.30202], [44.970114, -93.308632], [43.03856, -94.67874], [34.035394000000004, -118.268618], [40.70479, -73.81737], [40.70597, -73.46406], [39.77846, -104.898097], [40.008855, -122.093799], [38.236818, -87.56832], [33.726553, -117.189387], [30.280833, -97.648049], [47.4122, -122.2495], [33.834075, -118.195483], [39.199585, -84.674175], [25.728431, -80.337539], [36.06885, -79.34654], [46.544713, -94.308933], [35.017836, -85.178308], [44.7781, -93.21741], [39.084497, -122.788064], [44.898436, -93.211473], [36.77751, -76.32640500000002], [40.040908, -76.308336], [35.965083, -78.517877], [37.829087, -122.266505], [37.58059, -77.329034], [34.32928, -81.6059], [33.184395, -87.526155], [30.342587, -81.668221], [41.2952, -72.683362], [43.089144, -75.37351899999999], [25.925341, -80.153943], [39.99114, -111.7638], [28.415022, -81.422935], [40.66974, -74.17862], [38.74248, -77.28747], [38.836818, -77.091494], [32.688575, -96.778881], [35.49314000000001, -97.4767], [39.75552800000001, -105.012197], [33.926, -84.48739], [33.880246, -117.603349], [37.70139, -121.89284], [38.67106500000001, -121.596023], [41.66267, -87.59124], [41.025263, -111.945231], [44.886861, -93.333992], [32.45177, -88.39541], [26.551228, -81.85283000000003], [30.404236, -86.616132], [41.814275, -71.408405], [38.390438, -95.98727], [32.988715, -96.847413], [33.061584, -117.291337], [33.78266, -118.20654], [34.244761, -118.422263], [28.228253, -82.288472], [36.625244, -119.358681], [33.88644, -118.35526000000002], [38.799834, -77.206328], [25.8878, -80.32394000000002], [44.215887, -121.422328], [40.249496, -77.07682700000002], [43.24919000000001, -121.7857], [37.316564, -121.962389], [36.05604, -89.8369], [32.88298, -80.02051999999998], [30.143411, -97.663535], [33.552251, -117.137722], [33.10687, -96.82334], [37.43823, -122.24685], [39.878729, -75.30498100000001], [33.496983, -86.70308], [26.171321, -80.157703], [42.896729, -123.243974], [38.939291, -76.062437], [33.810572, -118.113574], [38.401491, -77.57030300000002], [32.769914, -96.769477], [37.192078, -120.335429], [34.052471000000004, -117.548381], [25.982927, -80.165791], [42.8492, -85.549882], [34.030394, -117.627766], [41.957761, -77.10736700000002], [36.83704, -76.15663599999998], [25.733112, -80.401738], [38.92736, -121.086577], [35.78019600000001, -78.633218], [37.315193, -121.888302], [41.11742, -73.50173000000002], [34.133692, -118.00077], [25.715168, -80.431221], [25.77004, -80.313908], [34.042812, -117.945927], [42.42439, -82.92896999999998], [38.19651, -85.73375], [45.033488, -93.089374], [29.65971, -82.41681], [30.533298, -87.273785], [37.321839, -118.071883], [47.663576, -122.343182], [28.447931, -81.470943], [33.038778, -117.283006], [39.720365, -84.09107], [27.388890000000004, -82.51385], [33.89641, -84.25064], [44.208984, -123.060894], [34.0262, -117.33355], [36.07894, -86.726235], [38.160197, -121.259993], [33.79541500000001, -84.393321], [37.491712, -77.397632], [28.451531, -81.400598], [39.17597, -120.97543], [33.988782, -117.872805], [43.004424, -74.884874], [32.979474, -96.714652], [37.42365, -121.92211], [42.24021, -87.915269], [39.67870900000001, -104.109786], [33.806548, -79.01095], [40.157498, -75.214026], [43.094483, -76.049433], [37.55332, -77.28914], [39.172395, -122.905225], [26.166354, -81.235817], [38.20009500000001, -120.014895], [30.42964000000001, -91.058948], [33.178481, -117.326583], [41.06323, -111.56213], [37.81053, -122.36464], [33.50247, -112.26786], [42.351788, -87.844217], [28.217047, -82.735561], [33.02248, -96.82969], [40.74615, -86.76469], [30.42411400000001, -91.051479], [45.301043, -121.736225], [44.8014, -123.03112], [44.26721, -93.29439], [28.157437, -81.823962], [48.44171, -115.87132], [37.712095, -122.162531], [28.407493, -81.40349], [29.738951, -95.445374], [42.92236, -74.19407], [43.606592, -116.43371], [27.985079, -82.74640500000002], [47.120237, -122.436827], [34.027238, -118.432203], [37.603428, -122.064142], [39.859079, -75.355631], [32.866557, -96.710755], [33.875333000000005, -118.063537], [34.0069, -118.28113], [33.919473, -118.371126], [41.7663, -72.65198000000002], [40.724935, -111.89971], [33.93421, -117.66268], [25.943433, -80.187737], [45.53946, -122.41826], [40.90392, -74.13514], [37.132769, -80.36225400000002], [32.473263, -80.64299799999998], [28.03002, -80.65268], [37.042973, -113.593293], [26.47101, -80.174456], [33.94093400000001, -118.300279], [30.311021000000004, -81.523751], [34.037553, -118.219714], [34.15952, -118.46386], [25.898221, -80.212747], [41.79673, -87.8075], [40.21979, -75.24725], [30.315246, -81.75974699999998], [47.45067, -122.296124], [34.225811, -117.84867], [40.70587, -73.8181], [33.571051000000004, -112.06086100000002], [30.03631, -89.97575], [25.73589, -80.319411], [25.940783, -80.30677299999998], [34.04055, -118.179849], [40.73473, -74.109749], [41.880435, -74.058397], [38.499456, -122.986748], [25.928233, -80.19833], [38.5229, -90.39564], [34.677731, -82.40057900000002], [32.770804, -117.11243799999998], [37.35497, -77.41335], [33.93659, -118.352714], [33.77275, -84.55190999999998], [36.34714, -117.768555], [35.344912, -119.02131], [37.44506, -122.11915], [33.859921, -118.2959], [35.725955, -78.54968000000002], [37.765556, -121.348889], [27.559472, -80.717507], [47.582752, -114.113253], [29.377404, -81.143867], [41.183506, -111.989017], [39.378551, -76.45309499999998], [29.021598, -82.156223], [40.91951, -73.81069000000002], [34.260832, -118.471873], [25.763863, -80.303919], [32.203297, -110.879399], [39.681337, -75.662324], [30.457212, -87.309685], [40.741049, -73.82144], [41.21059, -111.9707], [34.152218, -118.117227], [42.513096, -73.599289], [33.921009000000005, -118.082819], [39.530879, -119.785362], [34.064317, -117.809069], [39.782412, -84.182375], [40.74568, -73.76843000000002], [40.724247, -87.08365500000002], [39.349004, -77.391182], [38.50534, -121.450046], [28.507344, -81.612039], [34.072026, -118.07563600000002], [27.992037, -82.37015600000002], [34.155665, -118.445298], [32.75298, -117.15767], [38.563374, -121.34153700000002], [45.283209, -93.00329], [32.700109999999995, -117.09495], [35.036648, -81.946543], [38.5746, -121.381398], [34.068283, -118.150994], [34.423984000000004, -82.58805500000003], [25.627141, -80.383572], [40.429244, -79.943784], [33.791177000000005, -78.777321], [38.894101, -77.014042], [38.060106, -77.504028], [38.676726, -120.749073], [40.27564, -74.7056], [34.910225, -82.29644], [27.757115, -82.662974], [34.071940000000005, -118.084391], [40.736316, -122.930243], [39.055574, -94.56116], [39.93772, -75.198306], [39.05167, -84.55689], [44.286, -121.28624], [28.771319, -80.89379], [32.84514, -96.87801], [38.09801, -121.706141], [39.01556, -76.48845], [34.038139, -118.181609], [34.062752, -118.250976], [37.541294, -121.924456], [43.66589000000001, -121.50743], [34.786904, -92.387494], [36.605354, -119.660995], [39.860151, -75.072475], [34.000561, -117.94404], [41.39858, -81.6522], [42.421072, -87.85503], [38.80339, -77.21214499999998], [27.818392, -82.69066099999998], [40.888506, -74.474397]],\n",
              "                {&quot;blur&quot;: 15, &quot;maxZoom&quot;: 18, &quot;minOpacity&quot;: 0.5, &quot;radius&quot;: 25}\n",
              "            ).addTo(map_1eb11941139cc9f6ae586727129de259);\n",
              "        \n",
              "&lt;/script&gt;\" style=\"position:absolute;width:100%;height:100%;left:0;top:0;border:none !important;\" allowfullscreen webkitallowfullscreen mozallowfullscreen></iframe></div></div>"
            ]
          },
          "metadata": {},
          "execution_count": 46
        }
      ]
    }
  ]
}